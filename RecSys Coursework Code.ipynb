{
  "nbformat": 4,
  "nbformat_minor": 0,
  "metadata": {
    "colab": {
      "name": "Copy of RecSys coursework 2020 template.ipynb",
      "provenance": [],
      "collapsed_sections": []
    },
    "kernelspec": {
      "name": "python3",
      "display_name": "Python 3"
    }
  },
  "cells": [
    {
      "cell_type": "markdown",
      "metadata": {
        "id": "THQFNe3zdt1f",
        "colab_type": "text"
      },
      "source": [
        "# Assessed Coursework Template Notebook\n",
        "\n",
        "This is the template notebook for the RecSys(H) 2020 coursework. It deals with data preparation and evaluation only.\n",
        "\n",
        "Please note:\n",
        " - use H1 text headings for grouping together blocks of cells. You can then hide these while working on other blocks\n",
        " - leave the cell output visible when you submit the notebook\n",
        "\n"
      ]
    },
    {
      "cell_type": "markdown",
      "metadata": {
        "id": "Ww--_kl9-ndn",
        "colab_type": "text"
      },
      "source": [
        "## Setup block\n",
        "\n",
        "Setup the data files, Python etc."
      ]
    },
    {
      "cell_type": "code",
      "metadata": {
        "id": "iFgYpbhh0tkX",
        "colab_type": "code",
        "outputId": "296533a2-4854-4a6e-f3ec-26d2692282ee",
        "colab": {
          "base_uri": "https://localhost:8080/",
          "height": 221
        }
      },
      "source": [
        "!rm -rf ratings* books* to_read* test*\n",
        "\n",
        "!curl -o ratings.csv \"http://www.dcs.gla.ac.uk/~craigm/recsysH/coursework/final-ratings.csv\" \n",
        "!curl -o books.csv \"http://www.dcs.gla.ac.uk/~craigm/recsysH/coursework/final-books.csv\"\n",
        "!curl -o to_read.csv \"http://www.dcs.gla.ac.uk/~craigm/recsysH/coursework/final-to_read.csv\"\n",
        "!curl -o test.csv \"http://www.dcs.gla.ac.uk/~craigm/recsysH/coursework/final-test.csv\""
      ],
      "execution_count": 30,
      "outputs": [
        {
          "output_type": "stream",
          "text": [
            "  % Total    % Received % Xferd  Average Speed   Time    Time     Time  Current\n",
            "                                 Dload  Upload   Total   Spent    Left  Speed\n",
            "100 7631k  100 7631k    0     0  4784k      0  0:00:01  0:00:01 --:--:-- 4784k\n",
            "  % Total    % Received % Xferd  Average Speed   Time    Time     Time  Current\n",
            "                                 Dload  Upload   Total   Spent    Left  Speed\n",
            "100 2366k  100 2366k    0     0  1556k      0  0:00:01  0:00:01 --:--:-- 1556k\n",
            "  % Total    % Received % Xferd  Average Speed   Time    Time     Time  Current\n",
            "                                 Dload  Upload   Total   Spent    Left  Speed\n",
            "100 7581k  100 7581k    0     0  4136k      0  0:00:01  0:00:01 --:--:-- 4134k\n",
            "  % Total    % Received % Xferd  Average Speed   Time    Time     Time  Current\n",
            "                                 Dload  Upload   Total   Spent    Left  Speed\n",
            "100 1895k  100 1895k    0     0  1225k      0  0:00:01  0:00:01 --:--:-- 1225k\n"
          ],
          "name": "stdout"
        }
      ]
    },
    {
      "cell_type": "code",
      "metadata": {
        "id": "1VpVnNrZ1EiX",
        "colab_type": "code",
        "outputId": "4605afe1-491a-4c8c-df54-fe3249e3aed8",
        "colab": {
          "base_uri": "https://localhost:8080/",
          "height": 71
        }
      },
      "source": [
        "#Standard setup\n",
        "import pandas as pd\n",
        "import numpy as np\n",
        "import torch\n",
        "!pip install git+https://github.com/cmacdonald/spotlight.git@master#egg=spotlight\n",
        "from spotlight.interactions import Interactions\n"
      ],
      "execution_count": 31,
      "outputs": [
        {
          "output_type": "stream",
          "text": [
            "Requirement already satisfied: spotlight from git+https://github.com/cmacdonald/spotlight.git@master#egg=spotlight in /usr/local/lib/python3.6/dist-packages (0.1.6)\n",
            "Requirement already satisfied: torch>=0.4.0 in /usr/local/lib/python3.6/dist-packages (from spotlight) (1.4.0)\n"
          ],
          "name": "stdout"
        }
      ]
    },
    {
      "cell_type": "markdown",
      "metadata": {
        "id": "RtJO0e0m-hun",
        "colab_type": "text"
      },
      "source": [
        "# data preparation"
      ]
    },
    {
      "cell_type": "code",
      "metadata": {
        "id": "qKAb25iw1MYw",
        "colab_type": "code",
        "colab": {}
      },
      "source": [
        "#load in the csv files\n",
        "ratings_df = pd.read_csv(\"ratings.csv\")\n",
        "books_df = pd.read_csv(\"books.csv\")\n",
        "to_read_df = pd.read_csv(\"to_read.csv\")\n",
        "test = pd.read_csv(\"test.csv\")"
      ],
      "execution_count": 0,
      "outputs": []
    },
    {
      "cell_type": "code",
      "metadata": {
        "id": "W6rqfn53OhDC",
        "colab_type": "code",
        "colab": {}
      },
      "source": [
        "#cut down the number of items and users\n",
        "counts=ratings_df[ratings_df[\"book_id\"] < 2000].groupby([\"book_id\"]).count().reset_index()\n",
        "valid_books=counts[counts[\"user_id\"] >= 10][[\"book_id\"]]\n",
        "\n",
        "books_df = books_df.merge(valid_books, on=\"book_id\")\n",
        "\n",
        "ratings_df = ratings_df[ratings_df[\"user_id\"] < 2000].merge(valid_books, on=\"book_id\")\n",
        "to_read_df = to_read_df[to_read_df[\"user_id\"] < 2000].merge(valid_books, on=\"book_id\")\n",
        "test = test[test[\"user_id\"] < 2000].merge(valid_books, on=\"book_id\")\n"
      ],
      "execution_count": 0,
      "outputs": []
    },
    {
      "cell_type": "markdown",
      "metadata": {
        "id": "C7cgXhmYUXIn",
        "colab_type": "text"
      },
      "source": [
        "Here we construct the Interactions objects from `ratings.csv`, `to_read.csv` and `test.csv`. We manually specify the num_users and num_items parameters to all Interaction objects, in case the test set differs from your training sets."
      ]
    },
    {
      "cell_type": "code",
      "metadata": {
        "id": "15ClgJOdTTt1",
        "colab_type": "code",
        "outputId": "43247216-5162-489b-e193-6aaafe350d7d",
        "colab": {
          "base_uri": "https://localhost:8080/",
          "height": 68
        }
      },
      "source": [
        "from collections import defaultdict\n",
        "from itertools import count\n",
        "\n",
        "from spotlight.cross_validation import random_train_test_split\n",
        "\n",
        "iid_map = defaultdict(count().__next__)\n",
        "\n",
        "\n",
        "rating_iids = np.array([iid_map[iid] for iid in ratings_df[\"book_id\"].values], dtype = np.int32)\n",
        "test_iids = np.array([iid_map[iid] for iid in test[\"book_id\"].values], dtype = np.int32)\n",
        "toread_iids = np.array([iid_map[iid] for iid in to_read_df[\"book_id\"].values], dtype = np.int32)\n",
        "\n",
        "\n",
        "uid_map = defaultdict(count().__next__)\n",
        "test_uids = np.array([uid_map[uid] for uid in test[\"user_id\"].values], dtype = np.int32)\n",
        "rating_uids = np.array([uid_map[uid] for uid in ratings_df[\"user_id\"].values], dtype = np.int32)\n",
        "toread_uids = np.array([uid_map[iid] for iid in to_read_df[\"user_id\"].values], dtype = np.int32)\n",
        "\n",
        "\n",
        "uid_rev_map = {v: k for k, v in uid_map.items()}\n",
        "iid_rev_map = {v: k for k, v in iid_map.items()}\n",
        "\n",
        "\n",
        "rating_dataset = Interactions(user_ids=rating_uids,\n",
        "                               item_ids=rating_iids,\n",
        "                               ratings=ratings_df[\"rating\"].values,\n",
        "                               num_users=len(uid_rev_map),\n",
        "                               num_items=len(iid_rev_map))\n",
        "\n",
        "toread_dataset = Interactions(user_ids=toread_uids,\n",
        "                               item_ids=toread_iids,\n",
        "                               num_users=len(uid_rev_map),\n",
        "                               num_items=len(iid_rev_map))\n",
        "\n",
        "test_dataset = Interactions(user_ids=test_uids,\n",
        "                               item_ids=test_iids,\n",
        "                               num_users=len(uid_rev_map),\n",
        "                               num_items=len(iid_rev_map))\n",
        "\n",
        "print(rating_dataset)\n",
        "print(toread_dataset)\n",
        "print(test_dataset)\n",
        "\n",
        "#here we define the validation set\n",
        "toread_dataset_train, validation = random_train_test_split(toread_dataset, random_state=np.random.RandomState(42))\n",
        "\n",
        "num_items = test_dataset.num_items\n",
        "num_users = test_dataset.num_users"
      ],
      "execution_count": 34,
      "outputs": [
        {
          "output_type": "stream",
          "text": [
            "<Interactions dataset (1999 users x 1826 items x 124762 interactions)>\n",
            "<Interactions dataset (1999 users x 1826 items x 135615 interactions)>\n",
            "<Interactions dataset (1999 users x 1826 items x 33917 interactions)>\n"
          ],
          "name": "stdout"
        }
      ]
    },
    {
      "cell_type": "markdown",
      "metadata": {
        "id": "Kt4I2C5DTUL5",
        "colab_type": "text"
      },
      "source": [
        "#Example code\n",
        "\n",
        "To evaluate soem of your hand-implemented recommender systems (e.g. Q1, Q4), you will need to instantiate objects that match the specification of a Spotlight model, which `mrr_score()` expects.\n",
        "\n",
        "\n",
        "Here is an example recommender object that returns 0 for each item, regardless of user."
      ]
    },
    {
      "cell_type": "code",
      "metadata": {
        "id": "s2eaxy_hakbC",
        "colab_type": "code",
        "outputId": "a37c4ed4-d2a9-45ff-ea26-1e5cd8abfb34",
        "colab": {
          "base_uri": "https://localhost:8080/",
          "height": 34
        }
      },
      "source": [
        "from spotlight.evaluation import mrr_score\n",
        "\n",
        "\n",
        "class dummymodel:\n",
        "  \n",
        "  def __init__(self, numitems):\n",
        "    self.predictions=np.zeros(numitems)\n",
        "  \n",
        "  #uid is the user we are requesting recommendations for;\n",
        "  #returns an array of scores, one for each item\n",
        "  def predict(self, uid):\n",
        "    #this model returns all zeros, regardless of userid\n",
        "    return( self.predictions )\n",
        "\n",
        "#lets evaluate how the effeciveness of dummymodel\n",
        "\n",
        "print(mrr_score(dummymodel(num_items), test_dataset, train=rating_dataset, k=100).mean())\n",
        "#as expected, a recommendation model that gives 0 scores for all items obtains a MRR score of 0\n",
        "\n"
      ],
      "execution_count": 35,
      "outputs": [
        {
          "output_type": "stream",
          "text": [
            "0.0\n"
          ],
          "name": "stdout"
        }
      ]
    },
    {
      "cell_type": "code",
      "metadata": {
        "id": "ZQTJOmS5dB3i",
        "colab_type": "code",
        "outputId": "9e4875af-ad06-45e9-e0e9-04a33e0d80a7",
        "colab": {
          "base_uri": "https://localhost:8080/",
          "height": 51
        }
      },
      "source": [
        "\n",
        "#note that the latest copy of Craig's Spotlight displays a progress bar if you set verbose=True\n",
        "print(mrr_score(dummymodel(num_items), test_dataset, train=rating_dataset, k=100, verbose=True).mean())\n"
      ],
      "execution_count": 36,
      "outputs": [
        {
          "output_type": "stream",
          "text": [
            "1999it [00:00, 2909.28it/s]"
          ],
          "name": "stderr"
        },
        {
          "output_type": "stream",
          "text": [
            "0.0\n"
          ],
          "name": "stdout"
        },
        {
          "output_type": "stream",
          "text": [
            "\n"
          ],
          "name": "stderr"
        }
      ]
    },
    {
      "cell_type": "markdown",
      "metadata": {
        "id": "SyvGgW_3ZjLV",
        "colab_type": "text"
      },
      "source": [
        "#Q1\n",
        "\n",
        "You should create one block for each question"
      ]
    },
    {
      "cell_type": "code",
      "metadata": {
        "id": "ouAUBM35d-_7",
        "colab_type": "code",
        "outputId": "2ca989cb-12ee-42aa-9f24-1ad7a8d4083b",
        "colab": {
          "base_uri": "https://localhost:8080/",
          "height": 221
        }
      },
      "source": [
        "\"\"\"\n",
        "Question 1\n",
        "Implement the following four (non-personalised) baselines for ranking books based on their statistics:\n",
        "● Average rating, obtained from ratings.csv\n",
        "● Number of ratings, obtained from books.csv (column ratings_count)\n",
        "12/2/2020 v1.0 3\n",
        "● Number of 5* ratings, obtained from books.csv\n",
        "● Fraction of 5* ratings, calculated from the two evidence above.\n",
        "Evaluate these in terms of the MRR metric using the provided test data.\n",
        "\"\"\"\n",
        "import matplotlib.pyplot as plt\n",
        "\n",
        "class baselineModel:\n",
        "  def __init__(self, metric):\n",
        "    self.predictions=metric\n",
        "\n",
        "  def predict(self, uid):\n",
        "    return( self.predictions )\n",
        "\n",
        "average = ratings_df.groupby(['book_id']).mean()\n",
        "#print(\"Average: \",average)\n",
        "averageRatings = average['rating'].to_numpy()\n",
        "#print(\"Average Rating: \",averageRatings)\n",
        "\n",
        "#sortedAvgRatingsDes = np.sort(averageRatings)[::-1]\n",
        "#sortedAvgRatingsAsc = np.sort(averageRatings)\n",
        "\n",
        "r1 = mrr_score(baselineModel(averageRatings), test_dataset, train=rating_dataset, k=100).mean()\n",
        "print(\"1. MRR Score Average Rating:\\n\",r1)\n",
        "#print(\"1. MRR Score Des: \",mrr_score(baselineModel(sortedAvgRatingsDes), test_dataset, train=rating_dataset, k=100).mean())\n",
        "#print(\"1. MRR Score Asc: \",mrr_score(baselineModel(sortedAvgRatingsAsc), test_dataset, train=rating_dataset, k=100).mean())\n",
        "\n",
        "\n",
        "number_ratings = books_df[\"ratings_count\"].to_numpy()\n",
        "sortedNumbRatingsDes = np.sort(number_ratings)[::-1]\n",
        "\n",
        "r2 = mrr_score(baselineModel(number_ratings), test_dataset, train=rating_dataset, k=100).mean()\n",
        "print(\"\\n2. MRR Score Number Ratings:\\n\",r2)\n",
        "#print(\"2. MRR Score Des: \",mrr_score(baselineModel(sortedNumbRatingsDes), test_dataset, train=rating_dataset, k=100).mean())\n",
        "#print(\"TYPES: \",type(averageRatings),type(number_ratings))\n",
        "\n",
        "\n",
        "number_5_ratings = books_df[\"ratings_5\"].to_numpy()\n",
        "#sorted5starRatingsDes = np.sort(number_5_ratings)[::-1]\n",
        "\n",
        "r3 = mrr_score(baselineModel(number_5_ratings), test_dataset, train=rating_dataset, k=100).mean()\n",
        "print(\"\\n3. MRR Score Number 5 Ratings:\\n\",r3)\n",
        "#print(\"3. MRR Score Des: \",mrr_score(baselineModel(sorted5starRatingsDes), test_dataset, train=rating_dataset, k=100).mean())\n",
        "\n",
        "\n",
        "fraction_5_ratings = number_5_ratings/number_ratings\n",
        "#sorted5starFracRatingsDes = np.sort(fraction_5_ratings)[::-1]\n",
        "\n",
        "r4 = mrr_score(baselineModel(fraction_5_ratings), test_dataset, train=rating_dataset, k=100).mean()\n",
        "print(\"\\n4. MRR Score Fraction 5 Ratings:\\n\",r4)\n",
        "#print(\"4. MRR Score Des: \",mrr_score(baselineModel(sorted5starFracRatingsDes), test_dataset, train=rating_dataset, k=100).mean())\n",
        "\n",
        "\n",
        "'''\n",
        "RESULTS:\n",
        "1. MRR Score Average Rating:  0.024775365599441497\n",
        "\n",
        "2. MRR Score Number Ratings:  0.008181375050318986\n",
        "\n",
        "3. MRR Score Number 5 Ratings:  0.008070258646211246\n",
        "\n",
        "4. MRR Score Fraction 5 Ratings:  0.03138372904213526\n",
        "'''\n",
        "\n",
        "\n",
        "\n",
        "'''\n",
        "#Length 135615\n",
        "print(toread_dataset)\n",
        "print(toread_iids)\n",
        "print(toread_uids)\n",
        "\n",
        "#Length 33917\n",
        "print(test_dataset)\n",
        "print(test_iids)\n",
        "print(test_uids)\n",
        "\n",
        "#Length 124762\n",
        "print(rating_dataset)\n",
        "print(rating_iids)\n",
        "print(rating_uids)\n",
        "'''\n",
        "#get_average_rating(5)\n",
        "\n",
        "'''\n",
        "x = dataset.user_ids==8\n",
        "ratingX = dataset.ratings[x]\n",
        "print(len(ratingX))\n",
        "'''"
      ],
      "execution_count": 61,
      "outputs": [
        {
          "output_type": "stream",
          "text": [
            "1. MRR Score Average Rating:\n",
            " 0.024775365599441497\n",
            "\n",
            "2. MRR Score Number Ratings:\n",
            " 0.008181375050318986\n",
            "\n",
            "3. MRR Score Number 5 Ratings:\n",
            " 0.008070258646211246\n",
            "\n",
            "4. MRR Score Fraction 5 Ratings:\n",
            " 0.03138372904213526\n"
          ],
          "name": "stdout"
        },
        {
          "output_type": "execute_result",
          "data": {
            "text/plain": [
              "'\\nx = dataset.user_ids==8\\nratingX = dataset.ratings[x]\\nprint(len(ratingX))\\n'"
            ]
          },
          "metadata": {
            "tags": []
          },
          "execution_count": 61
        }
      ]
    },
    {
      "cell_type": "code",
      "metadata": {
        "id": "ARPhGYWuLgdE",
        "colab_type": "code",
        "outputId": "53b89bbb-4ce8-4ecf-ce05-122d3754b614",
        "colab": {
          "base_uri": "https://localhost:8080/",
          "height": 295
        }
      },
      "source": [
        "results=[r1,r2,r3,r4]\n",
        "x = [1,2,3,4]\n",
        "labels = ['Average Rating','Rating Count','5 Star Count','5 Star Fraction']\n",
        "\n",
        "fig, ax = plt.subplots()\n",
        "plt.title(\"Graph showing the MRR Scores of each metric evaluated in question 1\")\n",
        "ax.bar(x,results,color=['r','b','c','g'],label=labels)\n",
        "\n",
        "ax.set_xticks(x)\n",
        "ax.set_xticklabels(labels)\n",
        "plt.xlabel('Metrics')\n",
        "plt.ylabel('MRR Score')\n",
        "\n",
        "plt.show()"
      ],
      "execution_count": 38,
      "outputs": [
        {
          "output_type": "display_data",
          "data": {
            "image/png": "[encoded data removed]",
            "text/plain": [
              "<Figure size 432x288 with 1 Axes>"
            ]
          },
          "metadata": {
            "tags": []
          }
        }
      ]
    },
    {
      "cell_type": "code",
      "metadata": {
        "id": "jMCm0mWJht3h",
        "colab_type": "code",
        "outputId": "3299a948-d877-4c6b-b153-17240ae8170a",
        "colab": {
          "base_uri": "https://localhost:8080/",
          "height": 377
        }
      },
      "source": [
        "'''\n",
        "Question 2\n",
        "From Spotlight, use ExplicitFactorizationModel and ImplicitFactorizationModel (the\n",
        "latter using the BPR loss function) to train recommendation models based on the explicit ratings\n",
        "(ratings.csv). For both models, use 5 iterations of training. For the most effective approach, tune\n",
        "the number of latent factors in the range [8,16,32,64] using the validation set to maximise MRR.\n",
        "Evaluate the best model in terms of MRR using the provided test data.\n",
        "'''\n",
        "from spotlight.factorization.explicit import ExplicitFactorizationModel\n",
        "from spotlight.factorization.implicit import ImplicitFactorizationModel\n",
        "\n",
        "#We define the validation set \n",
        "train_dataset, validation_data = random_train_test_split(rating_dataset, random_state=np.random.RandomState(42))\n",
        "#toread_dataset_train, validation = random_train_test_split(toread_dataset, random_state=np.random.seed(42))\n",
        "\n",
        "print(\"TRAIN EXP: \",train_dataset)\n",
        "print(\"VALIDATION EXP: \",validation_data)\n",
        "\n",
        "print(\"TRAIN IMP: \",toread_dataset_train)\n",
        "print(\"VALIDATION IMP: \",validation)\n",
        "\n",
        "print(\"TEST: \",test_dataset)\n",
        "\n",
        "\n",
        "\n",
        "latentF = [8,16,32,64]\n",
        "resultsImpModel = []\n",
        "resultsExpModel = []\n",
        "#We do not use implicit data for this task (only required in question 3)\n",
        "for factor in latentF:\n",
        "  modelExp = ExplicitFactorizationModel(n_iter=5,random_state=np.random.RandomState(1), embedding_dim=factor)#,learning_rate=learning_rate,random_state= seed)\n",
        "  modelImp = ImplicitFactorizationModel(n_iter=5,random_state=np.random.RandomState(1), embedding_dim=factor,loss='bpr')\n",
        "\n",
        "  modelExp.fit(train_dataset)\n",
        "  modelImp.fit(train_dataset)\n",
        "\n",
        "  r1 = mrr_score(modelExp, validation_data).mean()\n",
        "  r2 = mrr_score(modelImp, validation_data).mean()\n",
        "  print(\"\\nMRR Score Explicit for {} factors: {}\".format(factor,r1))#, train=train_dataset).mean())\n",
        "  print(\"MRR Score Implicit for {} factors: {}\".format(factor,r2))#, train=train_dataset).mean())\n",
        "  resultsExpModel += [r1]\n",
        "  resultsImpModel += [r2]\n",
        "\n",
        "\n",
        "print(resultsImpModel)\n",
        "print(resultsExpModel)\n",
        "'''\n",
        "VALIDATION RESULTS (MRR SCORES):\n",
        "\n",
        "MRR Score Explicit for 8 factors: 0.02405349500146899\n",
        "MRR Score Implicit for 8 factors: 0.1891693862804418\n",
        "\n",
        "MRR Score Explicit for 16 factors: 0.022389170775864123\n",
        "MRR Score Implicit for 16 factors: 0.19914659710807783\n",
        "\n",
        "MRR Score Explicit for 32 factors: 0.03295219038090474\n",
        "MRR Score Implicit for 32 factors: 0.19726073354137386\n",
        "\n",
        "MRR Score Explicit for 64 factors: 0.029635651158912788\n",
        "MRR Score Implicit for 64 factors: 0.16964355193469752\n",
        "'''\n",
        "\n"
      ],
      "execution_count": 39,
      "outputs": [
        {
          "output_type": "stream",
          "text": [
            "TRAIN EXP:  <Interactions dataset (1999 users x 1826 items x 99809 interactions)>\n",
            "VALIDATION EXP:  <Interactions dataset (1999 users x 1826 items x 24953 interactions)>\n",
            "TRAIN IMP:  <Interactions dataset (1999 users x 1826 items x 108492 interactions)>\n",
            "VALIDATION IMP:  <Interactions dataset (1999 users x 1826 items x 27123 interactions)>\n",
            "TEST:  <Interactions dataset (1999 users x 1826 items x 33917 interactions)>\n",
            "\n",
            "MRR Score Explicit for 8 factors: 0.02405349500146899\n",
            "MRR Score Implicit for 8 factors: 0.1891693862804418\n",
            "\n",
            "MRR Score Explicit for 16 factors: 0.022389170775864123\n",
            "MRR Score Implicit for 16 factors: 0.19914659710807783\n",
            "\n",
            "MRR Score Explicit for 32 factors: 0.03295219038090474\n",
            "MRR Score Implicit for 32 factors: 0.19726073354137386\n",
            "\n",
            "MRR Score Explicit for 64 factors: 0.029635651158912788\n",
            "MRR Score Implicit for 64 factors: 0.16964355193469752\n",
            "[0.1891693862804418, 0.19914659710807783, 0.19726073354137386, 0.16964355193469752]\n",
            "[0.02405349500146899, 0.022389170775864123, 0.03295219038090474, 0.029635651158912788]\n"
          ],
          "name": "stdout"
        },
        {
          "output_type": "execute_result",
          "data": {
            "text/plain": [
              "'\\nVALIDATION RESULTS (MRR SCORES):\\n\\nMRR Score Explicit for 8 factors: 0.02405349500146899\\nMRR Score Implicit for 8 factors: 0.1891693862804418\\n\\nMRR Score Explicit for 16 factors: 0.022389170775864123\\nMRR Score Implicit for 16 factors: 0.19914659710807783\\n\\nMRR Score Explicit for 32 factors: 0.03295219038090474\\nMRR Score Implicit for 32 factors: 0.19726073354137386\\n\\nMRR Score Explicit for 64 factors: 0.029635651158912788\\nMRR Score Implicit for 64 factors: 0.16964355193469752\\n'"
            ]
          },
          "metadata": {
            "tags": []
          },
          "execution_count": 39
        }
      ]
    },
    {
      "cell_type": "code",
      "metadata": {
        "id": "JIhO4W35Y3Mo",
        "colab_type": "code",
        "outputId": "cc1b7b76-0af0-4e2f-a5f0-3d22cc282138",
        "colab": {
          "base_uri": "https://localhost:8080/",
          "height": 310
        }
      },
      "source": [
        "fig, ax = plt.subplots()\n",
        "plt.title(\"Graph showing the evolution of MRR Scores for implicit \\nand explicit models in function of the embedding dimension\")\n",
        "plt.plot(latentF,resultsExpModel,c='r',label='Explicit Model')\n",
        "plt.plot(latentF,resultsImpModel,c='b',label='Implicit Model')\n",
        "\n",
        "ax.set_xticks(latentF)\n",
        "#ax.set_xticklabels(labels)\n",
        "plt.xlabel('Number of embedding dimensions')\n",
        "plt.ylabel('MRR Score')\n",
        "plt.grid(axis='x')\n",
        "\n",
        "plt.legend()\n",
        "plt.show()"
      ],
      "execution_count": 40,
      "outputs": [
        {
          "output_type": "display_data",
          "data": {
            "image/png": "[encoded data removed]",
            "text/plain": [
              "<Figure size 432x288 with 1 Axes>"
            ]
          },
          "metadata": {
            "tags": []
          }
        }
      ]
    },
    {
      "cell_type": "code",
      "metadata": {
        "id": "XYvIh0HzsUTL",
        "colab_type": "code",
        "outputId": "e4c671eb-7552-4e27-9873-f2ad7ba28432",
        "colab": {
          "base_uri": "https://localhost:8080/",
          "height": 51
        }
      },
      "source": [
        "#Using the validation set, we obtained the best MRR Score results with 16 latent factors for the implicit model (when the training set is not specified).\n",
        "bestModelOne = ImplicitFactorizationModel(n_iter=5,random_state=np.random.RandomState(1), embedding_dim=16,loss='bpr')\n",
        "bestModelOne.fit(train_dataset)\n",
        "bestScoreQ2 = mrr_score(bestModelOne, test_dataset, train=train_dataset).mean()\n",
        "print(\"MRR Score Implicit for {} factors: {}\".format(16,bestScoreQ2))\n",
        "'''\n",
        "RESULTS:\n",
        "MRR Score Implicit for 16 factors: 0.3276965863884323\n",
        "'''"
      ],
      "execution_count": 41,
      "outputs": [
        {
          "output_type": "stream",
          "text": [
            "MRR Score Implicit for 16 factors: 0.3276965863884323\n"
          ],
          "name": "stdout"
        },
        {
          "output_type": "execute_result",
          "data": {
            "text/plain": [
              "'\\nRESULTS:\\nMRR Score Implicit for 16 factors: 0.3276965863884323\\n'"
            ]
          },
          "metadata": {
            "tags": []
          },
          "execution_count": 41
        }
      ]
    },
    {
      "cell_type": "code",
      "metadata": {
        "id": "jyeAiFel2Z7b",
        "colab_type": "code",
        "outputId": "4cc798b6-c85e-454c-86d8-2d068be174a1",
        "colab": {
          "base_uri": "https://localhost:8080/",
          "height": 207
        }
      },
      "source": [
        "'''\n",
        "Question 3\n",
        "Use Spotlight's ImplicitFactorizationModel - with the BPR loss function - on the implicit training\n",
        "data. Use 5 iterations of training. Tune the number of latent factors in the range [8,16,32,64] using the\n",
        "validation set to maximise MRR. Evaluate the final model in terms of MRR using the provided test data.\n",
        "Provide examples of userids for which the system attained the highest RR score. Analyse your findings\n",
        "(e.g. what did they previously shelf, and what did they then add to their shelf?).\n",
        "For the implicit factorisation model, implement the Intra-list diversity measure (see Lecture 12) of the\n",
        "top 5 scored items based on their item embeddings. Identify, compare & contrast the suggested items\n",
        "for users that have high and low Intra-list diversity scores.\n",
        "'''\n",
        "\n",
        "latentFactors = [8,16,32,64]\n",
        "resultsQ3 = []\n",
        "#Now we use the implicit data\n",
        "for LF in latentFactors:\n",
        "  modelImp = ImplicitFactorizationModel(n_iter=5,random_state=np.random.RandomState(1), embedding_dim=LF,loss='bpr')\n",
        "  modelImp.fit(toread_dataset_train)\n",
        "  r3 = mrr_score(modelImp, validation).mean()\n",
        "  print(\"LF is \",LF,\" - MRR Score:\\n\",r3)#, train=toread_dataset_train).mean())\n",
        "  resultsQ3 += [r3]\n",
        "\n",
        "print(resultsQ3)\n",
        "'''\n",
        "RESULTS:\n",
        "LF is  8  - MRR Score:  0.1931247369716604\n",
        "LF is  16  - MRR Score:  0.2031210049469179\n",
        "LF is  32  - MRR Score:  0.1910659694926828\n",
        "LF is  64  - MRR Score:  0.17840289192215153\n",
        "'''\n"
      ],
      "execution_count": 42,
      "outputs": [
        {
          "output_type": "stream",
          "text": [
            "LF is  8  - MRR Score:\n",
            " 0.1931247369716604\n",
            "LF is  16  - MRR Score:\n",
            " 0.2031210049469179\n",
            "LF is  32  - MRR Score:\n",
            " 0.1910659694926828\n",
            "LF is  64  - MRR Score:\n",
            " 0.17840289192215153\n",
            "[0.1931247369716604, 0.2031210049469179, 0.1910659694926828, 0.17840289192215153]\n"
          ],
          "name": "stdout"
        },
        {
          "output_type": "execute_result",
          "data": {
            "text/plain": [
              "'\\nRESULTS:\\nLF is  8  - MRR Score:  0.1931247369716604\\nLF is  16  - MRR Score:  0.2031210049469179\\nLF is  32  - MRR Score:  0.1910659694926828\\nLF is  64  - MRR Score:  0.17840289192215153\\n'"
            ]
          },
          "metadata": {
            "tags": []
          },
          "execution_count": 42
        }
      ]
    },
    {
      "cell_type": "code",
      "metadata": {
        "id": "R8ApnY8-ooyh",
        "colab_type": "code",
        "outputId": "cd09c878-bcbe-4c61-9f6e-d2b9e9a96473",
        "colab": {
          "base_uri": "https://localhost:8080/",
          "height": 310
        }
      },
      "source": [
        "fig, ax = plt.subplots()\n",
        "plt.title(\"Graph showing the evolution of MRR Scores for implicit \\nmodels in function of the embedding dimension\")\n",
        "plt.plot(latentF,resultsQ3,c='r',label='Implicit Model')\n",
        "\n",
        "ax.set_xticks(latentF)\n",
        "#ax.set_xticklabels(labels)\n",
        "plt.xlabel('Number of embedding dimensions')\n",
        "plt.ylabel('MRR Score')\n",
        "plt.grid(axis='x')\n",
        "\n",
        "plt.legend()\n",
        "plt.show()"
      ],
      "execution_count": 43,
      "outputs": [
        {
          "output_type": "display_data",
          "data": {
            "image/png": "[encoded data removed]",
            "text/plain": [
              "<Figure size 432x288 with 1 Axes>"
            ]
          },
          "metadata": {
            "tags": []
          }
        }
      ]
    },
    {
      "cell_type": "code",
      "metadata": {
        "id": "bsgCjkfis1jl",
        "colab_type": "code",
        "outputId": "c8bc4614-80e6-4f8c-d547-916b54dc0545",
        "colab": {
          "base_uri": "https://localhost:8080/",
          "height": 51
        }
      },
      "source": [
        "#We take our best result \n",
        "bestModelTwo = ImplicitFactorizationModel(n_iter=5,random_state=np.random.RandomState(1), embedding_dim=16,loss='bpr')\n",
        "bestModelTwo.fit(toread_dataset_train)\n",
        "print(\"Best Result: \",mrr_score(bestModelTwo, test_dataset,train=toread_dataset_train).mean())\n",
        "'''\n",
        "RESULTS:\n",
        "Best Result:  0.3376630775705313\n",
        "'''"
      ],
      "execution_count": 44,
      "outputs": [
        {
          "output_type": "stream",
          "text": [
            "Best Result:  0.3376630775705313\n"
          ],
          "name": "stdout"
        },
        {
          "output_type": "execute_result",
          "data": {
            "text/plain": [
              "'\\nRESULTS:\\nBest Result:  0.3376630775705313\\n'"
            ]
          },
          "metadata": {
            "tags": []
          },
          "execution_count": 44
        }
      ]
    },
    {
      "cell_type": "code",
      "metadata": {
        "id": "PckMhBLYdzvJ",
        "colab_type": "code",
        "colab": {}
      },
      "source": [
        "import operator\n",
        "bestRRScores = mrr_score(modelImp, test_dataset)#, train=train_dataset)\n",
        "topIds = np.argwhere(bestRRScores==np.amax(bestRRScores))\n",
        "\n",
        "nUsers = 200\n",
        "# Creating 1D array from 2D array of top user IDs\n",
        "topUsers = topIds[:nUsers]\n",
        "bestUsers = []\n",
        "\n",
        "for arr in topUsers:\n",
        "  for ID in arr:\n",
        "    bestUsers += [ID]\n",
        "\n",
        "#print(bestUsers)\n",
        "allBooksRead = {}\n",
        "allBooksShelvedNotRead = {}\n",
        "\n",
        "for ID in bestUsers:\n",
        "\n",
        "  #ratings_df[(ratings_df['user_id']==uid) & (ratings_df['rating']>=4)]['book_id'])\n",
        "  #print(type(ratings_df['user_id']))\n",
        "  #print(type(ID))\n",
        "  booksRead = list(ratings_df[(ratings_df['user_id']==ID)]['book_id'])\n",
        "  booksShelved = list(to_read_df[(to_read_df['user_id']==ID)]['book_id'])\n",
        "  booksShelvedNotRead = []\n",
        "\n",
        "  for bookID in booksRead:\n",
        "    if bookID in allBooksRead:\n",
        "      allBooksRead[bookID] += 1\n",
        "    else:\n",
        "      allBooksRead[bookID] = 1\n",
        "\n",
        "  for bookID in booksShelved:\n",
        "    if bookID not in booksRead:\n",
        "      booksShelvedNotRead += [bookID]\n",
        "\n",
        "  for bookID in booksShelvedNotRead:\n",
        "    if bookID in allBooksShelvedNotRead:\n",
        "      allBooksShelvedNotRead[bookID] += 1\n",
        "    else:\n",
        "      allBooksShelvedNotRead[bookID] = 1\n",
        "\n",
        "  #print(len(booksRead))\n",
        "  #print(len(booksShelved))\n",
        "  #print(booksShelvedNotRead,\"\\n\")\n",
        "\n"
      ],
      "execution_count": 0,
      "outputs": []
    },
    {
      "cell_type": "code",
      "metadata": {
        "id": "XRcvAh19yKkM",
        "colab_type": "code",
        "outputId": "7db6640e-d736-405b-80a3-1bc6a0e56c76",
        "colab": {
          "base_uri": "https://localhost:8080/",
          "height": 275
        }
      },
      "source": [
        "def getDictTopCounts(countDict):\n",
        "\n",
        "  listCounts = []\n",
        "  listIds = []\n",
        "  for key in countDict:\n",
        "    listCounts += [countDict[key]]\n",
        "    listIds += [key]\n",
        "\n",
        "  sortedListCounts = np.argsort(listCounts)[-5:][::-1]\n",
        "  topTenBooksRead = []\n",
        "  topTenBooksReadCounts = []\n",
        "\n",
        "  for index in sortedListCounts:\n",
        "    topTenBooksRead += [listIds[index]]\n",
        "    topTenBooksReadCounts += [listCounts[index]]\n",
        "\n",
        "  return topTenBooksRead,topTenBooksReadCounts\n",
        "\n",
        "topListIdsRead,topListCountsRead = getDictTopCounts(allBooksRead)\n",
        "topListIdsShelved,topListCountsShelved = getDictTopCounts(allBooksShelvedNotRead)\n",
        "\n",
        "print(\"The most read books among the top {} users with the highest RR Scores are:\".format(nUsers))\n",
        "for i in range(len(topListIdsRead)):\n",
        "  ID = topListIdsRead[i]\n",
        "  count = topListCountsRead[i]\n",
        "  print([books_df[books_df['book_id']==ID]['original_title'].to_numpy()[0]],\"was read \",count,\" times\")\n",
        "\n",
        "print(\"\\nThe most shelved books that have not been read among the top {} users with the highest RR Scores are:\".format(nUsers))\n",
        "for i in range(len(topListIdsShelved)):\n",
        "  ID = topListIdsShelved[i]\n",
        "  count = topListCountsShelved[i]\n",
        "  print([books_df[books_df['book_id']==ID]['original_title'].to_numpy()[0]],\"was shelved but not read \",count,\" times\")\n",
        "\n",
        "\n",
        "# print(topListIdsRead)\n",
        "# print(topListCountsRead)\n",
        "# print(topListIdsShelved)\n",
        "# print(topListCountsShelved)\n",
        "\n",
        "# print(books_df.columns)\n",
        "'''\n",
        "test = np.sort(sortedScores)\n",
        "test2 = np.sort(toread_uids)\n",
        "print(test)\n",
        "print(test2)\n",
        "'''\n",
        "'''\n",
        "best_uids = []\n",
        "for i in range(bestRRScores)\n",
        "  print(score)\n",
        "'''\n",
        "'''\n",
        "#User IDs start at 0 so they are the same as the array index\n",
        "for ID in top5users:\n",
        "  print(\"User Index: \",ID,\" - RR Score: \",bestRRScores[ID])\n",
        "#print(len(bestRRScores))\n",
        "'''\n"
      ],
      "execution_count": 46,
      "outputs": [
        {
          "output_type": "stream",
          "text": [
            "The most read books among the top 200 users with the highest RR Scores are:\n",
            "['The Great Gatsby'] was read  48  times\n",
            "['The Catcher in the Rye'] was read  47  times\n",
            "['The Hunger Games'] was read  45  times\n",
            "['To Kill a Mockingbird'] was read  44  times\n",
            "['Harry Potter and the Chamber of Secrets'] was read  44  times\n",
            "\n",
            "The most shelved books that have not been read among the top 200 users with the highest RR Scores are:\n",
            "['The Book Thief'] was shelved but not read  6  times\n",
            "['The Pillars of the Earth'] was shelved but not read  6  times\n",
            "['The Glass Castle'] was shelved but not read  6  times\n",
            "['A Tree Grows In Brooklyn '] was shelved but not read  5  times\n",
            "[\"A People's History of the United States: 1492 to Present \"] was shelved but not read  5  times\n"
          ],
          "name": "stdout"
        },
        {
          "output_type": "execute_result",
          "data": {
            "text/plain": [
              "'\\n#User IDs start at 0 so they are the same as the array index\\nfor ID in top5users:\\n  print(\"User Index: \",ID,\" - RR Score: \",bestRRScores[ID])\\n#print(len(bestRRScores))\\n'"
            ]
          },
          "metadata": {
            "tags": []
          },
          "execution_count": 46
        }
      ]
    },
    {
      "cell_type": "code",
      "metadata": {
        "id": "Wr5mo4ECpjIi",
        "colab_type": "code",
        "colab": {}
      },
      "source": [
        "\n",
        "import torch.nn.functional as Func\n",
        "\n",
        "def intraDiv(itemEmbeddings):\n",
        "  lengthItems = len(itemEmbeddings)\n",
        "  intraDiv = 0.0\n",
        "  for i in range(lengthItems):\n",
        "    for j in range(i+1, lengthItems):\n",
        "      intraDiv += 1- Func.cosine_similarity(itemEmbeddings[i], itemEmbeddings[j], dim=0)\n",
        "  result=(2 / (lengthItems * (lengthItems-1)) * intraDiv)\n",
        "  return result\n",
        "\n",
        "def getTopFivePredictionsIds(userId):\n",
        "  prediction = modelImp.predict(userId)\n",
        "  topPreds = np.argsort(prediction)\n",
        "  topFiveId = topPreds[-5:]\n",
        "  testRevTop = []\n",
        "  #Had to find another way to reverse the top 5 ids due to numpy error.\n",
        "  i=4\n",
        "  for k in range(len(topFiveId)):\n",
        "    testRevTop += [topFiveId[i]]\n",
        "    i -= 1\n",
        "  #print(testRevTop)\n",
        "  #topFiveId = topFiveId[::-1]\n",
        "  return(testRevTop)\n",
        "\n",
        "def getTopFivePredictionsTitles(userId):\n",
        "  topFiveId = getTopFivePredictionsIds(userId)\n",
        "  allTitles = []\n",
        "  for ID in topFiveId:\n",
        "    allTitles += [books_df[books_df['book_id']==ID]['original_title'].to_numpy()]\n",
        "  \n",
        "  singleTitles = []\n",
        "  for array in allTitles:\n",
        "    for title in array:\n",
        "      singleTitles += [title]\n",
        "  \n",
        "  return singleTitles\n",
        "\n",
        "intraDivMetric = []\n",
        "for ID in range(len(bestRRScores)):\n",
        "  topFiveId = getTopFivePredictionsIds(ID)\n",
        "  '''\n",
        "  topFivePred = []\n",
        "  for itemID in reversed(range(5)):\n",
        "    topFivePred += [prediction[topFiveId[itemID]]]\n",
        "  '''\n",
        "  topFiveEmbed = modelImp._net.item_embeddings.weight[topFiveId]\n",
        "  intraDivMetric += [intraDiv(topFiveEmbed).item()]\n",
        "\n"
      ],
      "execution_count": 0,
      "outputs": []
    },
    {
      "cell_type": "code",
      "metadata": {
        "id": "mryG3OKXnWsv",
        "colab_type": "code",
        "outputId": "bcd7a5fd-7452-49ec-8461-126e8dc4db3b",
        "colab": {
          "base_uri": "https://localhost:8080/",
          "height": 1000
        }
      },
      "source": [
        "print(intraDivMetric)\n",
        "topIntraDiv = np.argsort(intraDivMetric)\n",
        "print(topIntraDiv)\n",
        "topTenIntraDivIds = topIntraDiv[-10:]\n",
        "bottomTenIntraDivIds = topIntraDiv[:10]\n",
        "topTenIntraDivIds = topTenIntraDivIds[::-1]\n",
        "\n",
        "def printTopBottomTen(outputStr, topTen):\n",
        "  #We use this to count the most common IDs (if any)\n",
        "  allFoundItemTitles = {}\n",
        "  if (topTen):\n",
        "    IntraDivIds = topTenIntraDivIds\n",
        "  else:\n",
        "    IntraDivIds = bottomTenIntraDivIds\n",
        "\n",
        "  for i in range(10):\n",
        "    predictedTitles = getTopFivePredictionsTitles(IntraDivIds[i])[::-1]\n",
        "    print(outputStr.format(i+1,intraDivMetric[IntraDivIds[i]],IntraDivIds[i],\n",
        "                          getTopFivePredictionsIds(IntraDivIds[i])[::-1],\n",
        "                          predictedTitles))\n",
        "    for title in predictedTitles:\n",
        "      if title in allFoundItemTitles:\n",
        "        allFoundItemTitles[title] += 1\n",
        "      else:\n",
        "        allFoundItemTitles[title] = 1\n",
        "    \n",
        "  return allFoundItemTitles\n",
        "\n",
        "def occuredMoreThanOnce(titles):\n",
        "  occuredMoreThanOnce = {}\n",
        "  for t in titles:\n",
        "    if(titles[t]>1):\n",
        "      occuredMoreThanOnce[t]=titles[t]\n",
        "\n",
        "  return occuredMoreThanOnce\n",
        "\n",
        "\n",
        "\n",
        "outputStr = \"\\nN°{} Top ILD: {} is user {}\\n Top predicted items ID: {}\\n Top predicted items Titles: {}\"\n",
        "allFoundItemTitles = printTopBottomTen(outputStr,True)\n",
        "print(\"Dictionary IDs predicted for top users that occured more than once: {}\".format(occuredMoreThanOnce(allFoundItemTitles)))\n",
        "\n",
        "outputStr = \"\\nN°{} Bottom ILD: {} is user {}\\n Top predicted items ID: {}\\n Top predicted items Titles: {}\"\n",
        "allFoundItemTitles2 = printTopBottomTen(outputStr,False)\n",
        "print(\"Dictionary IDs predicted for bottom users that occured more than once: {}\".format(occuredMoreThanOnce(allFoundItemTitles2)))\n",
        "\n",
        "'''\n",
        "  print(\"N°{} Top ILD: {} is user {} -    N°{} Bottom ILD: {} is user {}\".format(i+1,intraDivMetric[topTenIntraDivIds[i]],topTenIntraDivIds[i],\n",
        "                                                                                 i+1,intraDivMetric[bottomTenIntraDivIds[i]],bottomTenIntraDivIds[i]))\n",
        "'''\n",
        "\n",
        "print(len(intraDivMetric))\n",
        "\n",
        "'''\n",
        "RESULTS:\n",
        "N°1 Top ILD: 0.9235219955444336 is user 423\n",
        " Top predicted items ID: [584, 1237, 21, 1082, 228]\n",
        " Top predicted items Titles: ['The Magicians', 'The Shell Seekers', 'Harry Potter and the Order of the Phoenix', '色彩を持たない多崎つくると、彼の巡礼の年 [Shikisai o motanai Tazaki Tsukuru to, kare no junrei no toshi]', 'The Nanny Diaries']\n",
        "\n",
        "N°2 Top ILD: 0.9171609282493591 is user 641\n",
        " Top predicted items ID: [644, 0, 633, 621, 744]\n",
        " Top predicted items Titles: ['Slammed', 'Starship Troopers', \"Are You There God? It's Me, Margaret\", 'The Power of Now']\n",
        "\n",
        "N°3 Top ILD: 0.9170010685920715 is user 1298\n",
        " Top predicted items ID: [651, 765, 615, 1578, 200]\n",
        " Top predicted items Titles: [\"Le Fantôme de l'Opéra\", 'The Autobiography of Malcolm X', 'This Lullaby', 'Intensity', 'Ten Little Niggers']\n",
        "\n",
        "N°4 Top ILD: 0.9114052653312683 is user 1204\n",
        " Top predicted items ID: [820, 138, 776, 978, 128]\n",
        " Top predicted items Titles: ['The Remains of the Day', 'The Scarlet Letter', 'Shadow of Night', 'Steve Jobs']\n",
        "\n",
        "N°5 Top ILD: 0.8919159173965454 is user 1911\n",
        " Top predicted items ID: [1390, 584, 176, 688, 261]\n",
        " Top predicted items Titles: ['Eleven on Top', 'The Magicians', 'It', 'Under the Banner of Heaven: A Story of Violent Faith', 'Under the Tuscan Sun']\n",
        "\n",
        "N°6 Top ILD: 0.8857353329658508 is user 1766\n",
        " Top predicted items ID: [499, 108, 0, 225, 1027]\n",
        " Top predicted items Titles: ['American Psycho', 'Confessions of a Shopaholic', 'East of Eden  ', 'The Blood of Olympus']\n",
        "\n",
        "N°7 Top ILD: 0.8809328079223633 is user 1113\n",
        " Top predicted items ID: [821, 931, 782, 1702, 1677]\n",
        " Top predicted items Titles: ['The Best of Me', 'Not that Kind of Girl', 'The Awakening', 'Next']\n",
        "\n",
        "N°8 Top ILD: 0.8706499338150024 is user 627\n",
        " Top predicted items ID: [950, 729, 581, 1047, 1359]\n",
        " Top predicted items Titles: [\"I'll Give You the Sun\", 'Hyperion', 'Scarlet', 'The One and Only Ivan', \"The Serpent's Shadow\"]\n",
        "\n",
        "N°9 Top ILD: 0.8664948344230652 is user 1694\n",
        " Top predicted items ID: [1624, 744, 9, 1219, 683]\n",
        " Top predicted items Titles: ['La Nausée', 'The Power of Now', 'Angels & Demons ', 'A Bend in the Road']\n",
        "\n",
        "N°10 Top ILD: 0.8585401773452759 is user 378\n",
        " Top predicted items ID: [997, 996, 176, 23, 21]\n",
        " Top predicted items Titles: ['The Scarlet Pimpernel', 'Three to Get Deadly', 'It', 'Harry Potter and the Chamber of Secrets', 'Harry Potter and the Order of the Phoenix']\n",
        "Dictionary IDs predicted for top users that occured more than once: {584: 2, 21: 2, 0: 2, 744: 2, 176: 2}\n",
        "\n",
        "N°1 Bottom ILD: 0.19203515350818634 is user 1151\n",
        " Top predicted items ID: [25, 81, 52, 108, 16]\n",
        " Top predicted items Titles: ['Harry Potter and the Deathly Hallows', 'The Glass Castle', 'Eclipse', 'Confessions of a Shopaholic', 'Män som hatar kvinnor']\n",
        "\n",
        "N°2 Bottom ILD: 0.19203515350818634 is user 69\n",
        " Top predicted items ID: [52, 25, 81, 108, 16]\n",
        " Top predicted items Titles: ['Eclipse', 'Harry Potter and the Deathly Hallows', 'The Glass Castle', 'Confessions of a Shopaholic', 'Män som hatar kvinnor']\n",
        "\n",
        "N°3 Bottom ILD: 0.19379715621471405 is user 454\n",
        " Top predicted items ID: [25, 21, 81, 108, 16]\n",
        " Top predicted items Titles: ['Harry Potter and the Deathly Hallows', 'Harry Potter and the Order of the Phoenix', 'The Glass Castle', 'Confessions of a Shopaholic', 'Män som hatar kvinnor']\n",
        "\n",
        "N°4 Bottom ILD: 0.19379718601703644 is user 1402\n",
        " Top predicted items ID: [108, 25, 81, 16, 21]\n",
        " Top predicted items Titles: ['Confessions of a Shopaholic', 'Harry Potter and the Deathly Hallows', 'The Glass Castle', 'Män som hatar kvinnor', 'Harry Potter and the Order of the Phoenix']\n",
        "\n",
        "N°5 Bottom ILD: 0.19801636040210724 is user 102\n",
        " Top predicted items ID: [52, 97, 108, 23, 21]\n",
        " Top predicted items Titles: ['Eclipse', 'Dracula', 'Confessions of a Shopaholic', 'Harry Potter and the Chamber of Secrets', 'Harry Potter and the Order of the Phoenix']\n",
        "\n",
        "N°6 Bottom ILD: 0.19801637530326843 is user 1913\n",
        " Top predicted items ID: [97, 52, 108, 21, 23]\n",
        " Top predicted items Titles: ['Dracula', 'Eclipse', 'Confessions of a Shopaholic', 'Harry Potter and the Order of the Phoenix', 'Harry Potter and the Chamber of Secrets']\n",
        "\n",
        "N°7 Bottom ILD: 0.20222239196300507 is user 433\n",
        " Top predicted items ID: [33, 24, 52, 143, 21]\n",
        " Top predicted items Titles: ['Memoirs of a Geisha', 'Harry Potter and the Goblet of Fire', 'Eclipse', nan, 'Harry Potter and the Order of the Phoenix']\n",
        "\n",
        "N°8 Bottom ILD: 0.20285511016845703 is user 1460\n",
        " Top predicted items ID: [189, 25, 81, 108, 16]\n",
        " Top predicted items Titles: ['The Lord of the Rings', 'Harry Potter and the Deathly Hallows', 'The Glass Castle', 'Confessions of a Shopaholic', 'Män som hatar kvinnor']\n",
        "\n",
        "N°9 Bottom ILD: 0.2029053419828415 is user 283\n",
        " Top predicted items ID: [25, 52, 16, 9, 108]\n",
        " Top predicted items Titles: ['Harry Potter and the Deathly Hallows', 'Eclipse', 'Män som hatar kvinnor', 'Angels & Demons ', 'Confessions of a Shopaholic']\n",
        "\n",
        "N°10 Bottom ILD: 0.2038314789533615 is user 156\n",
        " Top predicted items ID: [187, 81, 108, 9, 16]\n",
        " Top predicted items Titles: ['Uglies', 'The Glass Castle', 'Confessions of a Shopaholic', 'Angels & Demons ', 'Män som hatar kvinnor']\n",
        "Dictionary IDs predicted for bottom users that occured more than once: {25: 6, 81: 6, 52: 6, 108: 9, 16: 7, 21: 5, 97: 2, 23: 2, 9: 2}\n",
        "'''"
      ],
      "execution_count": 48,
      "outputs": [
        {
          "output_type": "stream",
          "text": [
            "[0.25611838698387146, 0.2566140294075012, 0.25611838698387146, 0.36771175265312195, 0.3882308900356293, 0.2827962338924408, 0.36657121777534485, 0.28201577067375183, 0.28499820828437805, 0.26092594861984253, 0.27810412645339966, 0.2724854648113251, 0.26450076699256897, 0.5216568112373352, 0.2641489505767822, 0.29266366362571716, 0.2686493396759033, 0.48801931738853455, 0.4123946726322174, 0.29780372977256775, 0.35302677750587463, 0.3109157979488373, 0.4165404438972473, 0.2871396541595459, 0.2597021758556366, 0.2970629632472992, 0.4190511703491211, 0.2662559449672699, 0.3026760518550873, 0.2773935794830322, 0.4239368438720703, 0.4485110342502594, 0.20394861698150635, 0.3345203399658203, 0.31794604659080505, 0.289663702249527, 0.25537484884262085, 0.29673466086387634, 0.27501532435417175, 0.31084564328193665, 0.585688054561615, 0.2585584819316864, 0.39429160952568054, 0.4089386463165283, 0.31701475381851196, 0.252306193113327, 0.2565838694572449, 0.23405833542346954, 0.4618253707885742, 0.4814397394657135, 0.40498995780944824, 0.6366744041442871, 0.629934549331665, 0.6621609330177307, 0.303145170211792, 0.3255908191204071, 0.8004060983657837, 0.712084174156189, 0.2754548490047455, 0.2915153205394745, 0.33995160460472107, 0.6337780952453613, 0.5697765946388245, 0.3101505935192108, 0.2827962338924408, 0.24682775139808655, 0.2992362976074219, 0.45882391929626465, 0.5504337549209595, 0.854836642742157, 0.42956119775772095, 0.3592715859413147, 0.25610917806625366, 0.7431010007858276, 0.395713746547699, 0.36122360825538635, 0.3132198750972748, 0.42932650446891785, 0.6751019954681396, 0.3793891668319702, 0.5736755728721619, 0.24430620670318604, 0.29967841506004333, 0.2904972434043884, 0.31249770522117615, 0.27377644181251526, 0.23041656613349915, 0.35559317469596863, 0.2819715738296509, 0.37070512771606445, 0.2810705304145813, 0.27140364050865173, 0.46245327591896057, 0.3479931056499481, 0.3774816691875458, 0.4061654210090637, 0.28399428725242615, 0.3616162836551666, 0.5939035415649414, 0.2748865485191345, 0.2970420718193054, 0.45046815276145935, 0.25782510638237, 0.30327215790748596, 0.2663733959197998, 0.33083972334861755, 0.2815932631492615, 0.2579974830150604, 0.2644648849964142, 0.30803486704826355, 0.35553017258644104, 0.411111980676651, 0.34728875756263733, 0.2619723379611969, 0.46515560150146484, 0.25782510638237, 0.3279505670070648, 0.7543596625328064, 0.28793779015541077, 0.25405511260032654, 0.31270262598991394, 0.3674687445163727, 0.3006610572338104, 0.3770981729030609, 0.3031058609485626, 0.5500432252883911, 0.4245263636112213, 0.2882140576839447, 0.3472255766391754, 0.32822149991989136, 0.5518254637718201, 0.43121105432510376, 0.35589540004730225, 0.24637103080749512, 0.3097839653491974, 0.7026922106742859, 0.41571202874183655, 0.32387229800224304, 0.35946860909461975, 0.30853506922721863, 0.23800216615200043, 0.3226549029350281, 0.3162534534931183, 0.3451295793056488, 0.44981178641319275, 0.3321658670902252, 0.4041301906108856, 0.30119237303733826, 0.3312402665615082, 0.42936334013938904, 0.2674897313117981, 0.3093569874763489, 0.5053040385246277, 0.5243204236030579, 0.35249337553977966, 0.5870161056518555, 0.3430790603160858, 0.6668261289596558, 0.34692153334617615, 0.2539726197719574, 0.7991742491722107, 0.2545332610607147, 0.4893191456794739, 0.33699366450309753, 0.28768640756607056, 0.2712930738925934, 0.6643137335777283, 0.37274667620658875, 0.31502485275268555, 0.29323893785476685, 0.27734997868537903, 0.3389533460140228, 0.3157547116279602, 0.4432964324951172, 0.3976297974586487, 0.23800210654735565, 0.29911795258522034, 0.519956111907959, 0.2643457353115082, 0.25229716300964355, 0.3133552074432373, 0.3180723488330841, 0.7925390601158142, 0.26770201325416565, 0.5110218524932861, 0.33220335841178894, 0.6880495548248291, 0.5395927429199219, 0.33091995120048523, 0.2680302560329437, 0.3241063356399536, 0.29045233130455017, 0.335880845785141, 0.34531623125076294, 0.1782749593257904, 0.24259832501411438, 0.2477787733078003, 0.4212194085121155, 0.2999494969844818, 0.3194286823272705, 0.5902535319328308, 0.49404239654541016, 0.35002097487449646, 0.35932403802871704, 0.27364540100097656, 0.3157315254211426, 0.33993229269981384, 0.3215334415435791, 0.360187292098999, 0.5897781252861023, 0.2593044638633728, 0.7079971432685852, 0.3130419850349426, 0.3119332492351532, 0.29991310834884644, 0.44847923517227173, 0.5509554147720337, 0.47021540999412537, 0.6505552530288696, 0.34429803490638733, 0.3829070031642914, 0.4564270079135895, 0.27135080099105835, 0.46545153856277466, 0.3339272439479828, 0.23800210654735565, 0.33324018120765686, 0.5436303615570068, 0.21089330315589905, 0.4487222135066986, 0.3009621202945709, 0.3027372360229492, 0.5009605288505554, 0.29217788577079773, 0.33888062834739685, 0.3628234267234802, 0.442207008600235, 0.34552475810050964, 0.33999377489089966, 0.5651875734329224, 0.28989937901496887, 0.2694821059703827, 0.6941556334495544, 0.26163583993911743, 0.3432512879371643, 0.33114925026893616, 0.3366720378398895, 0.516993522644043, 0.6571194529533386, 0.4289255738258362, 0.4097759425640106, 0.37002798914909363, 0.35846811532974243, 0.3825434744358063, 0.3419345021247864, 0.3958175778388977, 0.3077475428581238, 0.40275225043296814, 0.2571656405925751, 0.4238569736480713, 0.3944929838180542, 0.34029218554496765, 0.2718600928783417, 0.40755340456962585, 0.2785523235797882, 0.4036577641963959, 0.3524560034275055, 0.2827962338924408, 0.5858084559440613, 0.29268479347229004, 0.2772383391857147, 0.3701852858066559, 0.2667267322540283, 0.2646324634552002, 0.299680233001709, 0.23413963615894318, 0.38659629225730896, 0.30083367228507996, 0.2689981460571289, 0.2759842574596405, 0.4626964032649994, 0.3354524075984955, 0.2532900273799896, 0.28680580854415894, 0.34805208444595337, 0.3965587615966797, 0.2527887523174286, 0.39736077189445496, 0.2967070937156677, 0.7005715370178223, 0.645613431930542, 0.3433411419391632, 0.36662763357162476, 0.25368958711624146, 0.44362303614616394, 0.2843741774559021, 0.4391370415687561, 0.5340279936790466, 0.31171926856040955, 0.35558053851127625, 0.8749170303344727, 0.23800210654735565, 0.4197629988193512, 0.44677630066871643, 0.34644776582717896, 0.5894453525543213, 0.2968767285346985, 0.6717931628227234, 0.5677655339241028, 0.33957788348197937, 0.3700736463069916, 0.5688227415084839, 0.25283166766166687, 0.29538479447364807, 0.3957076072692871, 0.6560820937156677, 0.42351627349853516, 0.2858276963233948, 0.3245660066604614, 0.2585306465625763, 0.29949018359184265, 0.5661596655845642, 0.47536006569862366, 0.2695675790309906, 0.33153825998306274, 0.4779238700866699, 0.3304906487464905, 0.2773500084877014, 0.35424965620040894, 0.2695675790309906, 0.3533937633037567, 0.37916532158851624, 0.3921756446361542, 0.34788641333580017, 0.39672818779945374, 0.35733428597450256, 0.33284109830856323, 0.6278342008590698, 0.3997898995876312, 0.37954041361808777, 0.5179663300514221, 0.45462846755981445, 0.4046727120876312, 0.4416678547859192, 0.3000982701778412, 0.5357391238212585, 0.2801227271556854, 0.6761341094970703, 0.30083391070365906, 0.5175666213035583, 0.2632375955581665, 0.3215988874435425, 0.3564387261867523, 0.33667850494384766, 0.42714330554008484, 0.1798626035451889, 0.2962045669555664, 0.437283992767334, 0.46996474266052246, 0.6037301421165466, 0.3718910217285156, 0.5274645686149597, 0.33678945899009705, 0.4364410936832428, 0.2695675790309906, 0.39410313963890076, 0.45308706164360046, 0.28680577874183655, 0.41088151931762695, 0.30454960465431213, 0.5797568559646606, 0.5247254967689514, 0.28468459844589233, 0.6557770371437073, 0.2462731897830963, 0.6928529739379883, 0.8263965845108032, 0.20074887573719025, 0.2803487479686737, 0.6688485145568848, 0.69696044921875, 0.5998566746711731, 0.5292375683784485, 0.26641514897346497, 0.4859198033809662, 0.29118049144744873, 0.33860233426094055, 0.6481723189353943, 0.2667519450187683, 0.5500733852386475, 0.3860624134540558, 0.23086996376514435, 0.3834901750087738, 0.3527509272098541, 0.2986891567707062, 0.313042014837265, 0.2695675790309906, 0.3003729283809662, 0.4192335307598114, 0.2927510440349579, 0.4985007345676422, 0.42633986473083496, 0.4189988672733307, 0.472530335187912, 0.31491464376449585, 0.4401637017726898, 0.36650145053863525, 0.39472755789756775, 0.4067838788032532, 0.46457043290138245, 0.28565770387649536, 0.31171923875808716, 0.23730690777301788, 0.3857686221599579, 0.3234323561191559, 0.5075532793998718, 0.3090163767337799, 0.40953412652015686, 0.3110835552215576, 0.29966381192207336, 0.3277112543582916, 0.23800210654735565, 0.3933541476726532, 0.2587776780128479, 0.28958114981651306, 0.3364656865596771, 0.3179799020290375, 0.38600385189056396, 0.5461807250976562, 0.25611838698387146, 0.3477494716644287, 0.36054036021232605, 0.30598536133766174, 0.24565143883228302, 0.3086816072463989, 0.4914693832397461, 0.24637101590633392, 0.5170237421989441, 0.25128674507141113, 0.2794087827205658, 0.2722950875759125, 0.28183943033218384, 0.290637731552124, 0.3014032244682312, 0.2965582311153412, 0.6138769388198853, 0.26683923602104187, 0.4146230220794678, 0.26977086067199707, 0.23405833542346954, 0.4926557242870331, 0.30804526805877686, 0.3300262987613678, 0.29733631014823914, 0.30104368925094604, 0.36771321296691895, 0.34787535667419434, 0.23556433618068695, 0.33170264959335327, 0.3000982701778412, 0.2662559449672699, 0.26493141055107117, 0.2692517340183258, 0.5447494387626648, 0.29574766755104065, 0.282909631729126, 0.27392563223838806, 0.4557673931121826, 0.3160446584224701, 0.4069826602935791, 0.30953583121299744, 0.3415253162384033, 0.30632445216178894, 0.4873069226741791, 0.2804224193096161, 0.3636632561683655, 0.3353599011898041, 0.44164562225341797, 0.2713819444179535, 0.5467321872711182, 0.23948979377746582, 0.23948979377746582, 0.2830439507961273, 0.29718273878097534, 0.5240685343742371, 0.3619300425052643, 0.6277958750724792, 0.45863446593284607, 0.6913025975227356, 0.8334843516349792, 0.33758053183555603, 0.8584789633750916, 0.41784629225730896, 0.3100167214870453, 0.6360762715339661, 0.4254133403301239, 0.24319283664226532, 0.20835080742835999, 0.36634325981140137, 0.2664151191711426, 0.30736228823661804, 0.19061239063739777, 0.33031973242759705, 0.474016010761261, 0.31719499826431274, 0.2868886888027191, 0.3338969051837921, 0.3390982151031494, 0.25804296135902405, 0.7766313552856445, 0.6918608546257019, 0.2712952792644501, 0.48307713866233826, 0.40802001953125, 0.29038941860198975, 0.3067391812801361, 0.26409056782722473, 0.5822173953056335, 0.335594117641449, 0.38950690627098083, 0.2792331874370575, 0.45778584480285645, 0.7076031565666199, 0.27503547072410583, 0.35302677750587463, 0.8078570365905762, 0.2827962338924408, 0.24891923367977142, 0.38759467005729675, 0.25179624557495117, 0.3641332983970642, 0.24440017342567444, 0.27615079283714294, 0.8488813638687134, 0.2641489505767822, 0.23222337663173676, 0.3724112808704376, 0.28341901302337646, 0.2698608934879303, 0.2731667459011078, 0.20157349109649658, 0.642005443572998, 0.2852477729320526, 0.2829325199127197, 0.23629195988178253, 0.258598655462265, 0.3152659833431244, 0.2844930589199066, 0.676495373249054, 0.36933839321136475, 0.2915206849575043, 0.4085625112056732, 0.2993275821208954, 0.23730693757534027, 0.34657520055770874, 0.2224317342042923, 0.3715510368347168, 0.30804529786109924, 0.30414509773254395, 0.5598016977310181, 0.5422385334968567, 0.6528080701828003, 0.26492562890052795, 0.416204035282135, 0.4123344421386719, 0.45000728964805603, 0.3380695581436157, 0.28118106722831726, 0.29996371269226074, 0.3230765163898468, 0.2888735234737396, 0.2985031306743622, 0.2224317044019699, 0.34929296374320984, 0.356028288602829, 0.27095770835876465, 0.2954406440258026, 0.413417786359787, 0.3552092909812927, 0.26753705739974976, 0.24357958137989044, 0.2719442546367645, 0.27775514125823975, 0.4469192624092102, 0.7654035687446594, 0.30804529786109924, 0.3125813603401184, 0.3346408009529114, 0.335234135389328, 0.4203660190105438, 0.4641609787940979, 0.5752319097518921, 0.2585902214050293, 0.3694242835044861, 0.28704577684402466, 0.438556432723999, 0.3864830434322357, 0.25851884484291077, 0.28149768710136414, 0.3159162104129791, 0.2805838882923126, 0.2794087827205658, 0.3592589497566223, 0.3350648581981659, 0.3610062301158905, 0.30083394050598145, 0.30804526805877686, 0.38962849974632263, 0.26148277521133423, 0.30634865164756775, 0.26243188977241516, 0.2501208782196045, 0.2992362678050995, 0.3484371304512024, 0.540836751461029, 0.19812817871570587, 0.27501535415649414, 0.44356584548950195, 0.3747469484806061, 0.49444910883903503, 0.2947624623775482, 0.3331167697906494, 0.3002578318119049, 0.7691640853881836, 0.4596327841281891, 0.3699786961078644, 0.3590928316116333, 0.31424370408058167, 0.6272284388542175, 0.3938528597354889, 0.2800491750240326, 0.31953516602516174, 0.3881780505180359, 0.4739881157875061, 0.24901826679706573, 0.29317089915275574, 0.2633957862854004, 0.3143284022808075, 0.3087335228919983, 0.3984133303165436, 0.4441988170146942, 0.7553104758262634, 0.2956508696079254, 0.7090045809745789, 0.29812684655189514, 0.8040815591812134, 0.2672196328639984, 0.4440988600254059, 0.5140330791473389, 0.268107146024704, 0.41185054183006287, 0.3045444190502167, 0.244194895029068, 0.37614062428474426, 0.5102604627609253, 0.6134848594665527, 0.31393393874168396, 0.31339889764785767, 0.37155866622924805, 0.4355138838291168, 0.3227948844432831, 0.2921348512172699, 0.29266369342803955, 0.3284457325935364, 0.6649497151374817, 0.6356719136238098, 0.353427529335022, 0.4129490852355957, 0.5574623942375183, 0.45824241638183594, 0.2947624921798706, 0.29780325293540955, 0.3918876349925995, 0.579206645488739, 0.42629456520080566, 0.27645960450172424, 0.2909418046474457, 0.33035990595817566, 0.26512381434440613, 0.453644335269928, 0.3709481954574585, 0.24643166363239288, 0.3352706730365753, 0.6002212762832642, 0.5315308570861816, 0.579552412033081, 0.46439018845558167, 0.33162784576416016, 0.26320168375968933, 0.275360643863678, 0.3593232333660126, 0.3383961617946625, 0.29431411623954773, 0.4358106255531311, 0.29006269574165344, 0.36877870559692383, 0.281009316444397, 0.4379841983318329, 0.587912380695343, 0.30231037735939026, 0.2621784210205078, 0.5051911473274231, 0.34360024333000183, 0.3596089780330658, 0.2641489505767822, 0.45067474246025085, 0.2694820761680603, 0.3784317672252655, 0.406877338886261, 0.30083394050598145, 0.3894728422164917, 0.3434292674064636, 0.4659310281276703, 0.43859997391700745, 0.32092615962028503, 0.27414488792419434, 0.4585588574409485, 0.6474714279174805, 0.6914222836494446, 0.6364583969116211, 0.2829752564430237, 0.30411940813064575, 0.599477231502533, 0.3476860225200653, 0.5357882380485535, 0.25437507033348083, 0.2665279507637024, 0.34313303232192993, 0.4394117295742035, 0.3799739480018616, 0.3406646251678467, 0.6894628405570984, 0.2809497117996216, 0.2796209156513214, 0.25611838698387146, 0.2367262840270996, 0.27249908447265625, 0.7325263619422913, 0.49921083450317383, 0.2759842872619629, 0.44944366812705994, 0.28356924653053284, 0.37403732538223267, 0.3347664773464203, 0.2610261142253876, 0.3137023150920868, 0.29812535643577576, 0.27945205569267273, 0.29761219024658203, 0.283830851316452, 0.26588013768196106, 0.2956189811229706, 0.45056962966918945, 0.6670655608177185, 0.6162809729576111, 0.5898066759109497, 0.4816652238368988, 0.2899799942970276, 0.2909756898880005, 0.3605024814605713, 0.27239909768104553, 0.30437204241752625, 0.3495381772518158, 0.3505972921848297, 0.35684841871261597, 0.2689422070980072, 0.3206283152103424, 0.2563648819923401, 0.247529536485672, 0.3211601674556732, 0.31987759470939636, 0.28921106457710266, 0.49478936195373535, 0.2610261142253876, 0.24822190403938293, 0.7321446537971497, 0.2729182243347168, 0.2904523015022278, 0.46306124329566956, 0.785624623298645, 0.4540923237800598, 0.5118319392204285, 0.2882140576839447, 0.3507404029369354, 0.37159276008605957, 0.22002916038036346, 0.2616017758846283, 0.5443400740623474, 0.4430471360683441, 0.27097198367118835, 0.7372965812683105, 0.37562114000320435, 0.33375850319862366, 0.37268945574760437, 0.3062099814414978, 0.28150469064712524, 0.26721152663230896, 0.2464776486158371, 0.23086996376514435, 0.29912641644477844, 0.44837209582328796, 0.29323893785476685, 0.4270363748073578, 0.2985653579235077, 0.2989465892314911, 0.23880143463611603, 0.28565770387649536, 0.2927028238773346, 0.28926098346710205, 0.4328947067260742, 0.3597896695137024, 0.6691813468933105, 0.6087914109230042, 0.28986746072769165, 0.30050230026245117, 0.3647717535495758, 0.4760032296180725, 0.399123877286911, 0.2784101068973541, 0.2667531371116638, 0.26275157928466797, 0.36600133776664734, 0.37987220287323, 0.3250528573989868, 0.32525914907455444, 0.25600096583366394, 0.2545332610607147, 0.4694577157497406, 0.24164126813411713, 0.4708561897277832, 0.24067269265651703, 0.2561444640159607, 0.45692649483680725, 0.7569984793663025, 0.28036269545555115, 0.30517974495887756, 0.2533976137638092, 0.2810297906398773, 0.3053681552410126, 0.3555021584033966, 0.29371771216392517, 0.2643144428730011, 0.411753386259079, 0.3849067687988281, 0.30227839946746826, 0.29469382762908936, 0.2772383689880371, 0.2816084921360016, 0.3859364688396454, 0.24565143883228302, 0.2591141164302826, 0.2664855122566223, 0.271643728017807, 0.3156524896621704, 0.2406391203403473, 0.6177670955657959, 0.2464776486158371, 0.3139173984527588, 0.6345068216323853, 0.4068855345249176, 0.4365440309047699, 0.27775514125823975, 0.5343394875526428, 0.2861703932285309, 0.6162540912628174, 0.5288985371589661, 0.49118518829345703, 0.7332248091697693, 0.2097783386707306, 0.23190398514270782, 0.7872315645217896, 0.437975138425827, 0.2881775200366974, 0.3188017010688782, 0.29510146379470825, 0.8418512344360352, 0.29691123962402344, 0.2567978501319885, 0.3357682228088379, 0.35423165559768677, 0.2667531371116638, 0.4496084749698639, 0.26405712962150574, 0.5289503335952759, 0.5725055932998657, 0.4973662793636322, 0.2810315489768982, 0.8411199450492859, 0.27289921045303345, 0.25632837414741516, 0.3175252377986908, 0.3433959186077118, 0.25782510638237, 0.2763221859931946, 0.42302629351615906, 0.2529209852218628, 0.29385992884635925, 0.4592275619506836, 0.3044922947883606, 0.31171923875808716, 0.3212175667285919, 0.3457382321357727, 0.33766409754753113, 0.315265953540802, 0.6194712519645691, 0.2871522605419159, 0.3253820836544037, 0.5617780089378357, 0.4692027270793915, 0.3122811019420624, 0.41319867968559265, 0.30638572573661804, 0.23149195313453674, 0.3039841055870056, 0.3549565076828003, 0.2362624704837799, 0.3064711093902588, 0.24637101590633392, 0.23761320114135742, 0.25663527846336365, 0.2708852291107178, 0.41534551978111267, 0.2606882154941559, 0.3104996085166931, 0.24889865517616272, 0.28892382979393005, 0.28567594289779663, 0.2082953006029129, 0.3885311484336853, 0.28442147374153137, 0.6867691874504089, 0.26716840267181396, 0.2456514686346054, 0.2642987072467804, 0.6039809584617615, 0.3176083266735077, 0.2966652810573578, 0.3308815658092499, 0.24605302512645721, 0.25611838698387146, 0.38806992769241333, 0.2748907208442688, 0.37148186564445496, 0.25782510638237, 0.3905113637447357, 0.2367262840270996, 0.3078569173812866, 0.47019001841545105, 0.24891923367977142, 0.4400182366371155, 0.36274057626724243, 0.32942166924476624, 0.2606762945652008, 0.421079158782959, 0.25551509857177734, 0.3350479304790497, 0.3429233431816101, 0.2602851092815399, 0.2334505170583725, 0.2566140294075012, 0.33660873770713806, 0.365705668926239, 0.2728259265422821, 0.5581292510032654, 0.386536568403244, 0.27689129114151, 0.25455930829048157, 0.2647233307361603, 0.6615502834320068, 0.24188871681690216, 0.6998322606086731, 0.27826568484306335, 0.26943856477737427, 0.6099469661712646, 0.31497007608413696, 0.24891924858093262, 0.4571094214916229, 0.2830369472503662, 0.6567980647087097, 0.34278252720832825, 0.31056952476501465, 0.3998173177242279, 0.3118029236793518, 0.2450861930847168, 0.26084861159324646, 0.2061767429113388, 0.5621947050094604, 0.33816155791282654, 0.6215429902076721, 0.6198293566703796, 0.40703827142715454, 0.3748815059661865, 0.19647224247455597, 0.31348472833633423, 0.24424834549427032, 0.23800210654735565, 0.47010937333106995, 0.26716575026512146, 0.26102614402770996, 0.7703527808189392, 0.293853759765625, 0.277416467666626, 0.2367262840270996, 0.3081440329551697, 0.2985031306743622, 0.6750549674034119, 0.32067832350730896, 0.34668752551078796, 0.6571441888809204, 0.3943254053592682, 0.7339370250701904, 0.28226351737976074, 0.3192032277584076, 0.30019405484199524, 0.4339597225189209, 0.607416570186615, 0.48231759667396545, 0.24889862537384033, 0.27081698179244995, 0.35017719864845276, 0.2424527257680893, 0.2697330415248871, 0.322945237159729, 0.24637101590633392, 0.2565252482891083, 0.4645887017250061, 0.27443423867225647, 0.2707904279232025, 0.30659985542297363, 0.24772553145885468, 0.5646438002586365, 0.4635066092014313, 0.24886813759803772, 0.45099711418151855, 0.247529536485672, 0.3235872685909271, 0.6458114981651306, 0.23556433618068695, 0.2956508696079254, 0.28690746426582336, 0.42794495820999146, 0.2641489505767822, 0.23962728679180145, 0.46075597405433655, 0.27775514125823975, 0.3229375183582306, 0.33357343077659607, 0.2946147620677948, 0.25663527846336365, 0.32042384147644043, 0.4122762382030487, 0.2696668207645416, 0.6649730801582336, 0.43146082758903503, 0.4879123866558075, 0.28103700280189514, 0.3290291726589203, 0.41393184661865234, 0.2574373483657837, 0.24321117997169495, 0.3628731667995453, 0.3258153200149536, 0.27377644181251526, 0.7437238693237305, 0.7091557383537292, 0.3246001899242401, 0.2592129409313202, 0.3415314853191376, 0.5701636672019958, 0.3663988709449768, 0.47849559783935547, 0.2641489505767822, 0.2945942282676697, 0.5747222304344177, 0.2683041989803314, 0.5556475520133972, 0.5756399631500244, 0.24637101590633392, 0.5323976874351501, 0.25611838698387146, 0.3203795850276947, 0.25639763474464417, 0.327711284160614, 0.2608485817909241, 0.3592163324356079, 0.36951178312301636, 0.4334070682525635, 0.29636722803115845, 0.6290460824966431, 0.4084719717502594, 0.29273754358291626, 0.5091314315795898, 0.282909631729126, 0.2597021460533142, 0.2742958068847656, 0.2332753986120224, 0.6539878249168396, 0.4011406898498535, 0.35452499985694885, 0.5055093169212341, 0.3346221446990967, 0.36337730288505554, 0.2514268457889557, 0.25663527846336365, 0.6169329881668091, 0.2545332610607147, 0.4046001136302948, 0.4902134835720062, 0.5127281546592712, 0.2673867642879486, 0.3814409673213959, 0.2597021758556366, 0.5576525926589966, 0.7477771639823914, 0.2815321087837219, 0.23041656613349915, 0.26092594861984253, 0.37057361006736755, 0.43462681770324707, 0.6330240368843079, 0.28182369470596313, 0.3389115035533905, 0.4316895604133606, 0.24567222595214844, 0.3873317837715149, 0.40246301889419556, 0.2759542167186737, 0.2477787733078003, 0.38900861144065857, 0.279859721660614, 0.2815932631492615, 0.2861874997615814, 0.33889302611351013, 0.29463738203048706, 0.3284974992275238, 0.3435004651546478, 0.2563975751399994, 0.28183943033218384, 0.27249908447265625, 0.315265953540802, 0.2616051137447357, 0.3290361762046814, 0.429979532957077, 0.7354284524917603, 0.46142154932022095, 0.32849442958831787, 0.3068333566188812, 0.2822427749633789, 0.5076678395271301, 0.3430958390235901, 0.34583598375320435, 0.7787461876869202, 0.5063427090644836, 0.4048213064670563, 0.553839921951294, 0.30493658781051636, 0.33222779631614685, 0.33711016178131104, 0.3072831630706787, 0.37169238924980164, 0.41876503825187683, 0.28838008642196655, 0.6154239773750305, 0.48839280009269714, 0.39017441868782043, 0.5199409127235413, 0.2794601619243622, 0.370199590921402, 0.5177974104881287, 0.25172412395477295, 0.2785523235797882, 0.29840487241744995, 0.3643745183944702, 0.3564187288284302, 0.3448646366596222, 0.3347671926021576, 0.35097119212150574, 0.41474494338035583, 0.32798174023628235, 0.3897307813167572, 0.21972738206386566, 0.2632375955581665, 0.554833710193634, 0.2619723677635193, 0.299663782119751, 0.7750453948974609, 0.300717830657959, 0.31353938579559326, 0.28708088397979736, 0.35610055923461914, 0.2741646468639374, 0.2244851142168045, 0.2566048204898834, 0.24716758728027344, 0.3505708575248718, 0.38202542066574097, 0.4537081718444824, 0.5858690738677979, 0.29899880290031433, 0.3818119764328003, 0.3395787179470062, 0.5259069800376892, 0.3877967894077301, 0.4757400453090668, 0.44584545493125916, 0.5559713244438171, 0.3318338096141815, 0.2985225319862366, 0.39954182505607605, 0.26438790559768677, 0.4258095324039459, 0.2734764814376831, 0.35265520215034485, 0.27571019530296326, 0.3726336658000946, 0.3296448588371277, 0.5502519011497498, 0.383268803358078, 0.3618193566799164, 0.5145685076713562, 0.2899799942970276, 0.3254563510417938, 0.25199151039123535, 0.6075380444526672, 0.3602798879146576, 0.4228329360485077, 0.3190320134162903, 0.3121230900287628, 0.37270504236221313, 0.3227662742137909, 0.2855655252933502, 0.3202512562274933, 0.2768304646015167, 0.32930755615234375, 0.4423041045665741, 0.5313035249710083, 0.29024580121040344, 0.6357972621917725, 0.3793891966342926, 0.37517842650413513, 0.3204323947429657, 0.6438919901847839, 0.3806738555431366, 0.25871115922927856, 0.3067866265773773, 0.3839894235134125, 0.34002479910850525, 0.4497453272342682, 0.27135077118873596, 0.32912009954452515, 0.4089035987854004, 0.27737680077552795, 0.5634830594062805, 0.33220335841178894, 0.33220335841178894, 0.41597461700439453, 0.3267388939857483, 0.3793478012084961, 0.2897728979587555, 0.4819002151489258, 0.5601807236671448, 0.35274848341941833, 0.45392438769340515, 0.2450299710035324, 0.5380355715751648, 0.36083337664604187, 0.2609259784221649, 0.24565143883228302, 0.682287871837616, 0.378071665763855, 0.24716758728027344, 0.356658935546875, 0.22199785709381104, 0.7229994535446167, 0.26930662989616394, 0.8072817921638489, 0.23800210654735565, 0.40390703082084656, 0.24494285881519318, 0.3937844932079315, 0.3182990550994873, 0.2754548490047455, 0.42435550689697266, 0.25701507925987244, 0.2782714366912842, 0.2608485817909241, 0.3316415250301361, 0.2988617718219757, 0.6644482612609863, 0.3368782699108124, 0.8288834691047668, 0.28403255343437195, 0.59078449010849, 0.2950112223625183, 0.35580572485923767, 0.3640766143798828, 0.32889291644096375, 0.29217788577079773, 0.24341431260108948, 0.3728371262550354, 0.46776339411735535, 0.7875819206237793, 0.29574766755104065, 0.3662829101085663, 0.4375362992286682, 0.30041995644569397, 0.3181561529636383, 0.5570077300071716, 0.4746910631656647, 0.25611838698387146, 0.2280072271823883, 0.3818020522594452, 0.3340400159358978, 0.4956519305706024, 0.3739759624004364, 0.4480096995830536, 0.5567448735237122, 0.25283169746398926, 0.5410831570625305, 0.37345394492149353, 0.37443244457244873, 0.5718384385108948, 0.3970845937728882, 0.25553637742996216, 0.585392415523529, 0.5420700907707214, 0.5588604211807251, 0.6449701189994812, 0.5643526911735535, 0.7728859186172485, 0.38901787996292114, 0.34136533737182617, 0.28513842821121216, 0.505983293056488, 0.4835425317287445, 0.5356507301330566, 0.28565770387649536, 0.275280237197876, 0.25334417819976807, 0.5404364466667175, 0.31164705753326416, 0.29890260100364685, 0.31171926856040955, 0.31227239966392517, 0.7515113353729248, 0.3000982701778412, 0.6435052752494812, 0.30067962408065796, 0.7602511644363403, 0.4507920444011688, 0.6988258361816406, 0.24901893734931946, 0.24510155618190765, 0.30689358711242676, 0.25283166766166687, 0.2419801950454712, 0.28657183051109314, 0.30755215883255005, 0.25663527846336365, 0.28978145122528076, 0.3197285830974579, 0.4274662435054779, 0.3477112650871277, 0.2683205306529999, 0.3079935312271118, 0.3397007882595062, 0.42764541506767273, 0.31508108973503113, 0.5467812418937683, 0.2734793722629547, 0.42904725670814514, 0.3011038899421692, 0.29716894030570984, 0.313042014837265, 0.2948938310146332, 0.32942166924476624, 0.40695545077323914, 0.31882235407829285, 0.293979287147522, 0.3808808922767639, 0.5709549188613892, 0.28672555088996887, 0.3016591966152191, 0.6429715752601624, 0.36849290132522583, 0.30327215790748596, 0.3714373707771301, 0.26084861159324646, 0.4305747151374817, 0.36526021361351013, 0.25059616565704346, 0.2927510440349579, 0.6394961476325989, 0.6485990881919861, 0.33785510063171387, 0.31784191727638245, 0.36488714814186096, 0.2788325250148773, 0.37209492921829224, 0.29189178347587585, 0.32226958870887756, 0.3067302703857422, 0.3073471188545227, 0.5821579098701477, 0.3186803162097931, 0.7417505383491516, 0.3733009994029999, 0.3135409653186798, 0.6490640640258789, 0.24152982234954834, 0.36216387152671814, 0.659922182559967, 0.25472328066825867, 0.3819018006324768, 0.3829896152019501, 0.2567978501319885, 0.3163782060146332, 0.2979837656021118, 0.36454474925994873, 0.38521409034729004, 0.4103042781352997, 0.5905743837356567, 0.3403632342815399, 0.2969892919063568, 0.30700644850730896, 0.28690746426582336, 0.2585902214050293, 0.24987509846687317, 0.6620113253593445, 0.6201704144477844, 0.4406123757362366, 0.4575086236000061, 0.2775706350803375, 0.2770300507545471, 0.300435870885849, 0.24968628585338593, 0.3013319671154022, 0.28059083223342896, 0.26076239347457886, 0.5023590326309204, 0.6975015997886658, 0.38065120577812195, 0.3843894600868225, 0.2394898384809494, 0.28152763843536377, 0.5467886924743652, 0.26140496134757996, 0.5664203763008118, 0.29966622591018677, 0.3603608310222626, 0.7281932234764099, 0.37304413318634033, 0.333205908536911, 0.26715245842933655, 0.4524855613708496, 0.2648976743221283, 0.6890861988067627, 0.35135242342948914, 0.6826910376548767, 0.6419434547424316, 0.5093770027160645, 0.2527887523174286, 0.24317622184753418, 0.2673937976360321, 0.2966586649417877, 0.3138448894023895, 0.7235544919967651, 0.7263786196708679, 0.282909631729126, 0.3137349784374237, 0.6273881196975708, 0.24745343625545502, 0.28587770462036133, 0.519810676574707, 0.5194531679153442, 0.33448326587677, 0.39528772234916687, 0.6324536800384521, 0.29479971528053284, 0.44048571586608887, 0.36808761954307556, 0.7065948843955994, 0.6756581664085388, 0.5316430926322937, 0.6211645007133484, 0.42426320910453796, 0.374432772397995, 0.7268524765968323, 0.2966264486312866, 0.5072560906410217, 0.3019486963748932, 0.3314155340194702, 0.23405833542346954, 0.2810705602169037, 0.592657208442688, 0.34049639105796814, 0.24341431260108948, 0.525388777256012, 0.2999494671821594, 0.2921867370605469, 0.2585306167602539, 0.38007503747940063, 0.35375458002090454, 0.2804569900035858, 0.2965582311153412, 0.26408621668815613, 0.34820428490638733, 0.5138128995895386, 0.23800210654735565, 0.25663530826568604, 0.3249768912792206, 0.2610261142253876, 0.5694495439529419, 0.3105270564556122, 0.34310781955718994, 0.2513856887817383, 0.46026331186294556, 0.4048212468624115, 0.29372847080230713, 0.3051181733608246, 0.3115660846233368, 0.6695374250411987, 0.6103516221046448, 0.44797608256340027, 0.46509408950805664, 0.5487701296806335, 0.3335481584072113, 0.26688632369041443, 0.3145509362220764, 0.3119332492351532, 0.43807968497276306, 0.31084737181663513, 0.7514533400535583, 0.2467097043991089, 0.3885030448436737, 0.3132701814174652, 0.6523146033287048, 0.7764409184455872, 0.5168759226799011, 0.7760356664657593, 0.34203073382377625, 0.8767138719558716, 0.432294100522995, 0.8081111311912537, 0.3218517005443573, 0.23066268861293793, 0.2680550813674927, 0.7461466789245605, 0.6570050120353699, 0.6936174631118774, 0.34376922249794006, 0.3079509437084198, 0.2567765414714813, 0.24637098610401154, 0.31787383556365967, 0.26227492094039917, 0.22199784219264984, 0.24341431260108948, 0.40714511275291443, 0.23730693757534027, 0.2169511765241623, 0.31378498673439026, 0.2851319909095764, 0.3286897838115692, 0.2767272889614105, 0.5716249942779541, 0.6893743872642517, 0.6894017457962036, 0.2674897313117981, 0.36126235127449036, 0.2965582609176636, 0.3090164065361023, 0.533787727355957, 0.3741115927696228, 0.32446226477622986, 0.39684465527534485, 0.33225682377815247, 0.4192335605621338, 0.3591283857822418, 0.3613300025463104, 0.39991986751556396, 0.3261423707008362, 0.26641517877578735, 0.4704539477825165, 0.3234577775001526, 0.33478352427482605, 0.2641489803791046, 0.2475295513868332, 0.42377573251724243, 0.25663527846336365, 0.2928769588470459, 0.35231027007102966, 0.5227908492088318, 0.2617943286895752, 0.43563199043273926, 0.4475100636482239, 0.3916908800601959, 0.30385324358940125, 0.36728760600090027, 0.29518648982048035, 0.4656505584716797, 0.29912644624710083, 0.39118802547454834, 0.25420263409614563, 0.2449428290128708, 0.2853942811489105, 0.5200143456459045, 0.6566337943077087, 0.2707904279232025, 0.26275157928466797, 0.3267388939857483, 0.485743910074234, 0.3108692169189453, 0.7658578157424927, 0.45078229904174805, 0.5474833846092224, 0.35850992798805237, 0.202215313911438, 0.33730170130729675, 0.3484621047973633, 0.38714560866355896, 0.36350882053375244, 0.6618485450744629, 0.24889862537384033, 0.33888062834739685, 0.26148277521133423, 0.3340539336204529, 0.3657492697238922, 0.34585919976234436, 0.48884063959121704, 0.551375150680542, 0.2783820331096649, 0.28270718455314636, 0.4977013170719147, 0.3686889111995697, 0.4822680950164795, 0.3621247410774231, 0.5734608769416809, 0.25696009397506714, 0.37351059913635254, 0.28097018599510193, 0.8213627934455872, 0.3104822337627411, 0.30037298798561096, 0.32412201166152954, 0.5704536437988281, 0.2722950875759125, 0.5030701756477356, 0.4186131954193115, 0.3090164065361023, 0.7914830446243286, 0.8522890210151672, 0.3658607006072998, 0.3974520266056061, 0.3189316391944885, 0.4274509847164154, 0.3679913580417633, 0.2927510440349579, 0.3185156285762787, 0.6181942820549011, 0.25287410616874695, 0.513178288936615, 0.6138463020324707, 0.29333415627479553, 0.3004608452320099, 0.3469129502773285, 0.3747507929801941, 0.32556024193763733, 0.28925400972366333, 0.7020445466041565, 0.4703156650066376, 0.34444451332092285, 0.4452308714389801, 0.44141432642936707, 0.8328493237495422, 0.6788585186004639, 0.3785351514816284, 0.5492206811904907, 0.6030073761940002, 0.28672558069229126, 0.2662985026836395, 0.24319283664226532, 0.26199567317962646, 0.6554601192474365, 0.2734793424606323, 0.7349763512611389, 0.7876275181770325, 0.2691096365451813, 0.26444384455680847, 0.4509434401988983, 0.3889542520046234, 0.20835080742835999, 0.4009093940258026, 0.4569275379180908, 0.2989897131919861, 0.41150665283203125, 0.30323871970176697, 0.2508135735988617, 0.36395615339279175, 0.3815543055534363, 0.7513137459754944, 0.37175798416137695, 0.2233552187681198, 0.5528130531311035, 0.5090044736862183, 0.2713484466075897, 0.48256608843803406, 0.3711265027523041, 0.3967460095882416, 0.537298858165741, 0.3331044316291809, 0.29280197620391846, 0.30576005578041077, 0.2695675790309906, 0.31312331557273865, 0.3881411552429199, 0.43354782462120056, 0.5560950636863708, 0.3886632025241852, 0.430166631937027, 0.30329629778862, 0.26218506693840027, 0.5572828650474548, 0.33542919158935547, 0.26921546459198, 0.276546448469162, 0.3137349784374237, 0.4403913617134094, 0.23948979377746582, 0.511629581451416, 0.7153457999229431, 0.35707905888557434, 0.2900817096233368, 0.31857559084892273, 0.2356911152601242, 0.6422573924064636, 0.37479501962661743, 0.4362431466579437, 0.3816395103931427, 0.2674897313117981, 0.26084861159324646, 0.34496980905532837, 0.3055092394351959, 0.2918674647808075, 0.5413151979446411, 0.2909587025642395, 0.4432637393474579, 0.3090163767337799, 0.46208998560905457, 0.4546933174133301, 0.526556134223938, 0.4234837591648102, 0.5446798205375671, 0.7821923494338989, 0.4892289340496063, 0.43916329741477966, 0.3251042068004608, 0.28900134563446045, 0.3018873631954193, 0.3259560763835907, 0.3962046205997467, 0.27336451411247253, 0.33395275473594666, 0.29850631952285767, 0.2776866555213928, 0.3010041415691376, 0.2891838252544403, 0.3011039197444916, 0.43877193331718445, 0.5270025134086609, 0.5588672757148743, 0.3053681552410126, 0.34866175055503845, 0.3316081464290619, 0.5785356163978577, 0.5325021147727966, 0.3158920109272003, 0.34302473068237305, 0.2485283464193344, 0.3278944790363312, 0.7718022465705872, 0.41690388321876526, 0.5249238610267639, 0.3263389468193054, 0.31435662508010864, 0.2980383336544037, 0.41988053917884827, 0.29344311356544495, 0.41262608766555786, 0.5091094374656677, 0.31718558073043823, 0.3516063392162323, 0.4847280979156494, 0.4234817624092102, 0.2978687882423401, 0.3566156327724457, 0.41047850251197815, 0.3719361424446106, 0.34757402539253235, 0.48322176933288574, 0.28803548216819763, 0.25651708245277405, 0.274509996175766, 0.763178288936615, 0.754729688167572, 0.648210346698761, 0.5571895837783813, 0.29952362179756165, 0.30755215883255005, 0.25978803634643555, 0.2742324769496918, 0.6030714511871338, 0.36844050884246826, 0.5189303755760193, 0.6439410448074341, 0.3592817485332489, 0.6195567846298218, 0.35964688658714294, 0.43415480852127075, 0.6999963521957397, 0.40909919142723083, 0.4931095242500305, 0.46748337149620056, 0.3155621588230133, 0.4402132034301758, 0.40750938653945923, 0.6379947662353516, 0.31265509128570557, 0.4996350407600403, 0.2662509083747864, 0.3839612901210785, 0.2695675790309906, 0.24554185569286346, 0.5179586410522461, 0.6870772242546082, 0.3291873633861542, 0.5406528115272522, 0.3232768177986145, 0.43368035554885864, 0.41162797808647156, 0.33123359084129333, 0.41176334023475647, 0.39300140738487244, 0.47019705176353455, 0.6193497776985168, 0.5125227570533752, 0.3003004193305969, 0.5901569724082947, 0.35292407870292664, 0.46370264887809753, 0.42672038078308105, 0.33486127853393555, 0.29766589403152466, 0.3745766580104828, 0.6216904520988464, 0.35976752638816833, 0.3090164065361023, 0.5437946319580078, 0.46364423632621765, 0.3067302703857422, 0.2586122155189514, 0.33205029368400574, 0.7307502031326294, 0.3001185357570648, 0.30151039361953735, 0.3261778950691223, 0.7592755556106567, 0.5179361701011658, 0.34321480989456177, 0.35373741388320923, 0.2356911152601242, 0.2756035029888153, 0.46337947249412537, 0.7563456892967224, 0.6523438692092896, 0.5254350900650024, 0.30864426493644714, 0.5013042688369751, 0.3229280710220337, 0.3768419623374939, 0.5120730400085449, 0.47561031579971313, 0.524085283279419, 0.5115354657173157, 0.4835427403450012, 0.3666500151157379, 0.29646119475364685, 0.2695675790309906, 0.20835080742835999, 0.31294721364974976, 0.3968098759651184, 0.32457563281059265, 0.3112546503543854, 0.5110748410224915, 0.33414193987846375, 0.3493764102458954, 0.30406102538108826, 0.39774248003959656, 0.3841973841190338, 0.6972986459732056, 0.2843741774559021, 0.5368548035621643, 0.24637098610401154, 0.3171958923339844, 0.3028731942176819, 0.3153236508369446, 0.6266765594482422, 0.3483414351940155, 0.43690481781959534, 0.42161044478416443, 0.5950005650520325, 0.6284858584403992, 0.37657010555267334, 0.3609028458595276, 0.3639179468154907, 0.34728875756263733, 0.7240002751350403, 0.842245876789093, 0.7375449538230896, 0.263778418302536, 0.28102603554725647, 0.5658742189407349, 0.4604918956756592, 0.7876512408256531, 0.3749551773071289, 0.4522239863872528, 0.4894307255744934, 0.46748191118240356, 0.5421336889266968, 0.48267385363578796, 0.7338579297065735, 0.605130136013031, 0.5676249861717224, 0.43632441759109497, 0.5290940403938293, 0.3853798508644104, 0.5112535953521729, 0.38539889454841614, 0.30515772104263306, 0.31091681122779846, 0.43015313148498535, 0.6671514511108398, 0.24660836160182953, 0.2998732924461365, 0.6416890025138855, 0.41720613837242126, 0.34638839960098267, 0.5391998291015625, 0.3489740788936615, 0.3476265072822571, 0.4822169840335846, 0.8109576106071472, 0.3266858756542206, 0.23698227107524872, 0.7002983689308167, 0.3099156320095062, 0.5116119384765625, 0.47028928995132446, 0.30127522349357605, 0.2526494562625885, 0.5859562754631042, 0.5275486707687378, 0.594197690486908, 0.27078887820243835, 0.39488276839256287, 0.4944985508918762, 0.48681727051734924, 0.3350137174129486, 0.48368164896965027, 0.28787001967430115, 0.38745903968811035, 0.6899217963218689, 0.5087956190109253, 0.6003735661506653, 0.5991760492324829, 0.3401918113231659, 0.288229376077652, 0.3609989881515503, 0.39376622438430786, 0.4018456041812897, 0.2800491750240326, 0.5228757858276367, 0.4294772148132324, 0.5328122973442078, 0.28900131583213806, 0.5763705372810364, 0.5612289309501648, 0.5296538472175598, 0.6239614486694336, 0.6080796122550964, 0.9089283347129822, 0.2901234030723572, 0.367999404668808, 0.560576856136322, 0.6294395327568054, 0.48425421118736267, 0.4531673491001129, 0.6292905211448669, 0.36487865447998047]\n",
            "[ 194  355  501 ...  300 1541 1990]\n",
            "\n",
            "N°1 Top ILD: 0.9089283347129822 is user 1990\n",
            " Top predicted items ID: [881, 1525, 845, 833, 244]\n",
            " Top predicted items Titles: ['The Man Who Mistook His Wife for a Hat and Other Clinical Tales', 'Crossroads of Twilight', 'Smile', 'The Chamber', 'Sharp Objects']\n",
            "\n",
            "N°2 Top ILD: 0.8767138719558716 is user 1541\n",
            " Top predicted items ID: [1342, 225, 1613, 1407, 1699]\n",
            " Top predicted items Titles: ['Night Watch', 'East of Eden  ', '走ることについて語るときに僕の語ること [Hashiru koto ni tsuite kataru toki ni boku no kataru koto]', 'The King of Torts', 'The Lake House']\n",
            "\n",
            "N°3 Top ILD: 0.8749170303344727 is user 300\n",
            " Top predicted items ID: [1440, 1702, 1270, 1674, 1575]\n",
            " Top predicted items Titles: ['Have a Little Faith: A True Story', 'スプートニクの恋人 [Supūtoniku no Koibito]', 'Prince of Thorns', 'Let It Snow: Three Holiday Romances']\n",
            "\n",
            "N°4 Top ILD: 0.8584789633750916 is user 491\n",
            " Top predicted items ID: [243, 1467, 104, 293, 1221]\n",
            " Top predicted items Titles: ['Misery', 'El juego del ángel', 'The Road', 'Treasure Island', 'Summer Sisters']\n",
            "\n",
            "N°5 Top ILD: 0.854836642742157 is user 69\n",
            " Top predicted items ID: [453, 10, 640, 668, 108]\n",
            " Top predicted items Titles: ['Cold Mountain', 'Pride and Prejudice', 'Prey', 'Everything I Never Told You', 'Confessions of a Shopaholic']\n",
            "\n",
            "N°6 Top ILD: 0.8522890210151672 is user 1651\n",
            " Top predicted items ID: [1278, 158, 43, 234, 270]\n",
            " Top predicted items Titles: ['Knife of Dreams', 'Charlie and the Chocolate Factory', 'Jane Eyre', 'Speak', 'Rebecca']\n",
            "\n",
            "N°7 Top ILD: 0.8488813638687134 is user 533\n",
            " Top predicted items ID: [84, 949, 106, 1055, 828]\n",
            " Top predicted items Titles: ['Jurassic Park', 'The Fires of Heaven', 'Bossypants', \"Midnight's Children\", 'Persepolis']\n",
            "\n",
            "N°8 Top ILD: 0.842245876789093 is user 1917\n",
            " Top predicted items ID: [491, 72, 157, 669, 763]\n",
            " Top predicted items Titles: ['Untamed: A House of Night Novel', 'The Shining', 'Green Eggs and Ham', 'La casa de los espíritus', 'The Bluest Eye']\n",
            "\n",
            "N°9 Top ILD: 0.8418512344360352 is user 875\n",
            " Top predicted items ID: [7, 234, 510, 52, 449]\n",
            " Top predicted items Titles: ['The Hobbit or There and Back Again', 'Speak', 'The Great Hunt', 'Eclipse']\n",
            "\n",
            "N°10 Top ILD: 0.8411199450492859 is user 887\n",
            " Top predicted items ID: [193, 1405, 131, 799, 270]\n",
            " Top predicted items Titles: ['Outliers: The Story of Success', 'The Year of the Flood', 'The Grapes of Wrath', 'Watchers', 'Rebecca']\n",
            "Dictionary IDs predicted for top users that occured more than once: {'Speak': 2, 'Rebecca': 2}\n",
            "\n",
            "N°1 Bottom ILD: 0.1782749593257904 is user 194\n",
            " Top predicted items ID: [10, 9, 581, 11, 7]\n",
            " Top predicted items Titles: ['Pride and Prejudice', 'Angels & Demons ', 'Scarlet', 'The Kite Runner ', 'The Hobbit or There and Back Again']\n",
            "\n",
            "N°2 Bottom ILD: 0.1798626035451889 is user 355\n",
            " Top predicted items ID: [11, 8, 9, 7, 10]\n",
            " Top predicted items Titles: ['The Kite Runner ', 'The Catcher in the Rye', 'Angels & Demons ', 'The Hobbit or There and Back Again', 'Pride and Prejudice']\n",
            "\n",
            "N°3 Bottom ILD: 0.19061239063739777 is user 501\n",
            " Top predicted items ID: [581, 10, 189, 7, 21]\n",
            " Top predicted items Titles: ['Scarlet', 'Pride and Prejudice', 'The Lord of the Rings', 'The Hobbit or There and Back Again', 'Harry Potter and the Order of the Phoenix']\n",
            "\n",
            "N°4 Bottom ILD: 0.19647224247455597 is user 992\n",
            " Top predicted items ID: [21, 9, 10, 581, 8]\n",
            " Top predicted items Titles: ['Harry Potter and the Order of the Phoenix', 'Angels & Demons ', 'Pride and Prejudice', 'Scarlet', 'The Catcher in the Rye']\n",
            "\n",
            "N°5 Bottom ILD: 0.19812817871570587 is user 615\n",
            " Top predicted items ID: [10, 7, 21, 8, 9]\n",
            " Top predicted items Titles: ['Pride and Prejudice', 'The Hobbit or There and Back Again', 'Harry Potter and the Order of the Phoenix', 'The Catcher in the Rye', 'Angels & Demons ']\n",
            "\n",
            "N°6 Bottom ILD: 0.20074887573719025 is user 377\n",
            " Top predicted items ID: [9, 21, 10, 7, 11]\n",
            " Top predicted items Titles: ['Angels & Demons ', 'Harry Potter and the Order of the Phoenix', 'Pride and Prejudice', 'The Hobbit or There and Back Again', 'The Kite Runner ']\n",
            "\n",
            "N°7 Bottom ILD: 0.20157349109649658 is user 540\n",
            " Top predicted items ID: [11, 581, 7, 9, 344]\n",
            " Top predicted items Titles: ['The Kite Runner ', 'Scarlet', 'The Hobbit or There and Back Again', 'Angels & Demons ', 'Naked']\n",
            "\n",
            "N°8 Bottom ILD: 0.202215313911438 is user 1617\n",
            " Top predicted items ID: [7, 581, 9, 11, 21]\n",
            " Top predicted items Titles: ['The Hobbit or There and Back Again', 'Scarlet', 'Angels & Demons ', 'The Kite Runner ', 'Harry Potter and the Order of the Phoenix']\n",
            "\n",
            "N°9 Bottom ILD: 0.20394861698150635 is user 32\n",
            " Top predicted items ID: [344, 11, 8, 581, 9]\n",
            " Top predicted items Titles: ['Naked', 'The Kite Runner ', 'The Catcher in the Rye', 'Scarlet', 'Angels & Demons ']\n",
            "\n",
            "N°10 Bottom ILD: 0.2061767429113388 is user 985\n",
            " Top predicted items ID: [10, 7, 581, 9, 81]\n",
            " Top predicted items Titles: ['Pride and Prejudice', 'The Hobbit or There and Back Again', 'Scarlet', 'Angels & Demons ', 'The Glass Castle']\n",
            "Dictionary IDs predicted for bottom users that occured more than once: {'Pride and Prejudice': 7, 'Angels & Demons ': 9, 'Scarlet': 7, 'The Kite Runner ': 6, 'The Hobbit or There and Back Again': 8, 'The Catcher in the Rye': 4, 'Harry Potter and the Order of the Phoenix': 5, 'Naked': 2}\n",
            "1999\n"
          ],
          "name": "stdout"
        },
        {
          "output_type": "execute_result",
          "data": {
            "text/plain": [
              "'\\nRESULTS:\\nN°1 Top ILD: 0.9235219955444336 is user 423\\n Top predicted items ID: [584, 1237, 21, 1082, 228]\\n Top predicted items Titles: [\\'The Magicians\\', \\'The Shell Seekers\\', \\'Harry Potter and the Order of the Phoenix\\', \\'色彩を持たない多崎つくると、彼の巡礼の年 [Shikisai o motanai Tazaki Tsukuru to, kare no junrei no toshi]\\', \\'The Nanny Diaries\\']\\n\\nN°2 Top ILD: 0.9171609282493591 is user 641\\n Top predicted items ID: [644, 0, 633, 621, 744]\\n Top predicted items Titles: [\\'Slammed\\', \\'Starship Troopers\\', \"Are You There God? It\\'s Me, Margaret\", \\'The Power of Now\\']\\n\\nN°3 Top ILD: 0.9170010685920715 is user 1298\\n Top predicted items ID: [651, 765, 615, 1578, 200]\\n Top predicted items Titles: [\"Le Fantôme de l\\'Opéra\", \\'The Autobiography of Malcolm X\\', \\'This Lullaby\\', \\'Intensity\\', \\'Ten Little Niggers\\']\\n\\nN°4 Top ILD: 0.9114052653312683 is user 1204\\n Top predicted items ID: [820, 138, 776, 978, 128]\\n Top predicted items Titles: [\\'The Remains of the Day\\', \\'The Scarlet Letter\\', \\'Shadow of Night\\', \\'Steve Jobs\\']\\n\\nN°5 Top ILD: 0.8919159173965454 is user 1911\\n Top predicted items ID: [1390, 584, 176, 688, 261]\\n Top predicted items Titles: [\\'Eleven on Top\\', \\'The Magicians\\', \\'It\\', \\'Under the Banner of Heaven: A Story of Violent Faith\\', \\'Under the Tuscan Sun\\']\\n\\nN°6 Top ILD: 0.8857353329658508 is user 1766\\n Top predicted items ID: [499, 108, 0, 225, 1027]\\n Top predicted items Titles: [\\'American Psycho\\', \\'Confessions of a Shopaholic\\', \\'East of Eden  \\', \\'The Blood of Olympus\\']\\n\\nN°7 Top ILD: 0.8809328079223633 is user 1113\\n Top predicted items ID: [821, 931, 782, 1702, 1677]\\n Top predicted items Titles: [\\'The Best of Me\\', \\'Not that Kind of Girl\\', \\'The Awakening\\', \\'Next\\']\\n\\nN°8 Top ILD: 0.8706499338150024 is user 627\\n Top predicted items ID: [950, 729, 581, 1047, 1359]\\n Top predicted items Titles: [\"I\\'ll Give You the Sun\", \\'Hyperion\\', \\'Scarlet\\', \\'The One and Only Ivan\\', \"The Serpent\\'s Shadow\"]\\n\\nN°9 Top ILD: 0.8664948344230652 is user 1694\\n Top predicted items ID: [1624, 744, 9, 1219, 683]\\n Top predicted items Titles: [\\'La Nausée\\', \\'The Power of Now\\', \\'Angels & Demons \\', \\'A Bend in the Road\\']\\n\\nN°10 Top ILD: 0.8585401773452759 is user 378\\n Top predicted items ID: [997, 996, 176, 23, 21]\\n Top predicted items Titles: [\\'The Scarlet Pimpernel\\', \\'Three to Get Deadly\\', \\'It\\', \\'Harry Potter and the Chamber of Secrets\\', \\'Harry Potter and the Order of the Phoenix\\']\\nDictionary IDs predicted for top users that occured more than once: {584: 2, 21: 2, 0: 2, 744: 2, 176: 2}\\n\\nN°1 Bottom ILD: 0.19203515350818634 is user 1151\\n Top predicted items ID: [25, 81, 52, 108, 16]\\n Top predicted items Titles: [\\'Harry Potter and the Deathly Hallows\\', \\'The Glass Castle\\', \\'Eclipse\\', \\'Confessions of a Shopaholic\\', \\'Män som hatar kvinnor\\']\\n\\nN°2 Bottom ILD: 0.19203515350818634 is user 69\\n Top predicted items ID: [52, 25, 81, 108, 16]\\n Top predicted items Titles: [\\'Eclipse\\', \\'Harry Potter and the Deathly Hallows\\', \\'The Glass Castle\\', \\'Confessions of a Shopaholic\\', \\'Män som hatar kvinnor\\']\\n\\nN°3 Bottom ILD: 0.19379715621471405 is user 454\\n Top predicted items ID: [25, 21, 81, 108, 16]\\n Top predicted items Titles: [\\'Harry Potter and the Deathly Hallows\\', \\'Harry Potter and the Order of the Phoenix\\', \\'The Glass Castle\\', \\'Confessions of a Shopaholic\\', \\'Män som hatar kvinnor\\']\\n\\nN°4 Bottom ILD: 0.19379718601703644 is user 1402\\n Top predicted items ID: [108, 25, 81, 16, 21]\\n Top predicted items Titles: [\\'Confessions of a Shopaholic\\', \\'Harry Potter and the Deathly Hallows\\', \\'The Glass Castle\\', \\'Män som hatar kvinnor\\', \\'Harry Potter and the Order of the Phoenix\\']\\n\\nN°5 Bottom ILD: 0.19801636040210724 is user 102\\n Top predicted items ID: [52, 97, 108, 23, 21]\\n Top predicted items Titles: [\\'Eclipse\\', \\'Dracula\\', \\'Confessions of a Shopaholic\\', \\'Harry Potter and the Chamber of Secrets\\', \\'Harry Potter and the Order of the Phoenix\\']\\n\\nN°6 Bottom ILD: 0.19801637530326843 is user 1913\\n Top predicted items ID: [97, 52, 108, 21, 23]\\n Top predicted items Titles: [\\'Dracula\\', \\'Eclipse\\', \\'Confessions of a Shopaholic\\', \\'Harry Potter and the Order of the Phoenix\\', \\'Harry Potter and the Chamber of Secrets\\']\\n\\nN°7 Bottom ILD: 0.20222239196300507 is user 433\\n Top predicted items ID: [33, 24, 52, 143, 21]\\n Top predicted items Titles: [\\'Memoirs of a Geisha\\', \\'Harry Potter and the Goblet of Fire\\', \\'Eclipse\\', nan, \\'Harry Potter and the Order of the Phoenix\\']\\n\\nN°8 Bottom ILD: 0.20285511016845703 is user 1460\\n Top predicted items ID: [189, 25, 81, 108, 16]\\n Top predicted items Titles: [\\'The Lord of the Rings\\', \\'Harry Potter and the Deathly Hallows\\', \\'The Glass Castle\\', \\'Confessions of a Shopaholic\\', \\'Män som hatar kvinnor\\']\\n\\nN°9 Bottom ILD: 0.2029053419828415 is user 283\\n Top predicted items ID: [25, 52, 16, 9, 108]\\n Top predicted items Titles: [\\'Harry Potter and the Deathly Hallows\\', \\'Eclipse\\', \\'Män som hatar kvinnor\\', \\'Angels & Demons \\', \\'Confessions of a Shopaholic\\']\\n\\nN°10 Bottom ILD: 0.2038314789533615 is user 156\\n Top predicted items ID: [187, 81, 108, 9, 16]\\n Top predicted items Titles: [\\'Uglies\\', \\'The Glass Castle\\', \\'Confessions of a Shopaholic\\', \\'Angels & Demons \\', \\'Män som hatar kvinnor\\']\\nDictionary IDs predicted for bottom users that occured more than once: {25: 6, 81: 6, 52: 6, 108: 9, 16: 7, 21: 5, 97: 2, 23: 2, 9: 2}\\n'"
            ]
          },
          "metadata": {
            "tags": []
          },
          "execution_count": 48
        }
      ]
    },
    {
      "cell_type": "code",
      "metadata": {
        "id": "hmu5px4m6vjH",
        "colab_type": "code",
        "outputId": "ec9fb2da-0248-4c7f-ab68-0c510ead2f07",
        "colab": {
          "base_uri": "https://localhost:8080/",
          "height": 153
        }
      },
      "source": [
        "#Different output for report\n",
        "bottomUsers = occuredMoreThanOnce(allFoundItemTitles2)\n",
        "\n",
        "for key in bottomUsers:\n",
        "  print(\"Title: {} | Count: {}\".format(key, bottomUsers[key]))"
      ],
      "execution_count": 49,
      "outputs": [
        {
          "output_type": "stream",
          "text": [
            "Title: Pride and Prejudice | Count: 7\n",
            "Title: Angels & Demons  | Count: 9\n",
            "Title: Scarlet | Count: 7\n",
            "Title: The Kite Runner  | Count: 6\n",
            "Title: The Hobbit or There and Back Again | Count: 8\n",
            "Title: The Catcher in the Rye | Count: 4\n",
            "Title: Harry Potter and the Order of the Phoenix | Count: 5\n",
            "Title: Naked | Count: 2\n"
          ],
          "name": "stdout"
        }
      ]
    },
    {
      "cell_type": "code",
      "metadata": {
        "id": "iZDFSQIRCFoN",
        "colab_type": "code",
        "outputId": "70348eb9-2348-4e69-800e-465ad085f508",
        "colab": {
          "base_uri": "https://localhost:8080/",
          "height": 88
        }
      },
      "source": [
        "'''\n",
        "Question 4\n",
        "Combine the outputs from the two ImplicitFactorizationModel models created in Question 2 &\n",
        "Question 3 using an unsupervised (i.e. unweighted) CombSum data fusion method: CombSum\n",
        "combines rankings based on the sum of their scores. Evaluate the outcome on the test set using MRR.\n",
        "Plot the before and after RR scores for each user, compared to the best model from Question 2 or\n",
        "Question 3. State how many users are improved.\n",
        "'''\n",
        "import matplotlib.pyplot as plt\n",
        "\n",
        "#combines rankings from two models\n",
        "class combSumModel:\n",
        "  \n",
        "  def __init__(self, model1, model2):\n",
        "    self.model1 = model1\n",
        "    self.model2 = model2 \n",
        "  \n",
        "  def predict(self, uid):\n",
        "    firstModelPred = np.array(self.model1.predict(uid))\n",
        "    secondModelPred = np.array(self.model2.predict(uid))\n",
        "    return firstModelPred+secondModelPred\n",
        "\n",
        "def compareImprovements (scores1, scores2):\n",
        "  countImprove = 0\n",
        "  for i in range(len(scores1)):\n",
        "    if (scores1[i]<scores2[i]):\n",
        "      countImprove += 1\n",
        "\n",
        "  return countImprove\n",
        "\n",
        "#We combine the results from our best implicit models\n",
        "CSModel = combSumModel(bestModelOne, bestModelTwo)\n",
        "\n",
        "#We do not specify the training sets as the combsum model's results rely on multiple training sets (explicit and implicit)\n",
        "#We trained our first best model using explicit data\n",
        "RRScoresOne = mrr_score(bestModelOne, test_dataset)\n",
        "#We trained our second best model using implicit data\n",
        "RRScoresTwo = mrr_score(bestModelTwo, test_dataset)\n",
        "#We cannot specify training set for combSum\n",
        "RRScoresCS = mrr_score(CSModel, test_dataset)\n",
        "\n",
        "print(\"The RR Scores of {} users have improved from the best model in Q2 to the combSum model\".format(compareImprovements(RRScoresOne,RRScoresCS)))\n",
        "print(\"The RR Scores of {} users have improved from the best model in Q3 to the combSum model\".format(compareImprovements(RRScoresTwo,RRScoresCS)))\n",
        "\n",
        "'''\n",
        "RESULTS:\n",
        "The RR Scores of 582 users have improved from the best model in Q2 to the combSum model\n",
        "The RR Scores of 569 users have improved from the best model in Q3 to the combSum model\n",
        "'''"
      ],
      "execution_count": 50,
      "outputs": [
        {
          "output_type": "stream",
          "text": [
            "The RR Scores of 582 users have improved from the best model in Q2 to the combSum model\n",
            "The RR Scores of 569 users have improved from the best model in Q3 to the combSum model\n"
          ],
          "name": "stdout"
        },
        {
          "output_type": "execute_result",
          "data": {
            "text/plain": [
              "'\\nRESULTS:\\nThe RR Scores of 582 users have improved from the best model in Q2 to the combSum model\\nThe RR Scores of 569 users have improved from the best model in Q3 to the combSum model\\n'"
            ]
          },
          "metadata": {
            "tags": []
          },
          "execution_count": 50
        }
      ]
    },
    {
      "cell_type": "code",
      "metadata": {
        "id": "5DTTL_54zwxO",
        "colab_type": "code",
        "outputId": "07114578-24c0-4f2c-c3b6-f0cbb0178c0b",
        "colab": {
          "base_uri": "https://localhost:8080/",
          "height": 715
        }
      },
      "source": [
        "#We plot for the first 150 users otherwise the graph quickly becomes unreadable (or very wide).\n",
        "nUsers = 150\n",
        "idArray = np.arange(1999)\n",
        "#plt.figure(figsize=(20,20))\n",
        "ax1 = plt.axes([0, 0, 2.5, 1])\n",
        "plt.title(\"Comparison of RR scores for each user between the best model from Q2 and the CombSum model\")\n",
        "# plt.plot(idArray[:100],RRScoresOne[:100],label=\"RR Scores Q2\")\n",
        "# plt.plot(idArray[:100],RRScoresCS[:100],label=\"RR CombSum\")\n",
        "plt.bar(idArray[:nUsers],RRScoresOne[:nUsers],label=\"RR Scores Q2\")\n",
        "plt.bar(idArray[:nUsers],RRScoresCS[:nUsers],label=\"RR CombSum\",width=0.3)\n",
        "plt.xlabel(\"user ID\")\n",
        "plt.ylabel(\"RR Score\")\n",
        "\n",
        "\n",
        "#axes = plt.gca()\n",
        "#axes.set_xlim([xmin,xmax])\n",
        "#axes.set_ylim([-10,10])\n",
        "plt.legend()\n",
        "plt.show()\n",
        "\n",
        "#print(idArray)\n",
        "#plt.figure(figsize=(20,20))\n",
        "ax2 = plt.axes([0, 0, 2.5, 1])\n",
        "plt.title(\"Comparison of RR scores for each user between the best model from Q3 and the CombSum model\")\n",
        "# plt.plot(idArray[:100],RRScoresTwo[:100],label=\"RR Scores Q3\")\n",
        "# plt.plot(idArray[:100],RRScoresCS[:100],label=\"RR CombSum\")\n",
        "plt.bar(idArray[:nUsers],RRScoresTwo[:nUsers],label=\"RR Scores Q3\")\n",
        "plt.bar(idArray[:nUsers],RRScoresCS[:nUsers],label=\"RR CombSum\", width=0.3)\n",
        "plt.xlabel(\"user ID\")\n",
        "plt.ylabel(\"RR Score\")\n",
        "\n",
        "#axes = plt.gca()\n",
        "#axes.set_xlim([xmin,xmax])\n",
        "#axes.set_ylim([-10,10])\n",
        "plt.legend()\n",
        "plt.show()\n",
        "#print(idArray)"
      ],
      "execution_count": 51,
      "outputs": [
        {
          "output_type": "display_data",
          "data": {
            "image/png": "[encoded data removed]",
            "text/plain": [
              "<Figure size 432x288 with 1 Axes>"
            ]
          },
          "metadata": {
            "tags": []
          }
        },
        {
          "output_type": "display_data",
          "data": {
            "image/png": "[encoded data removed]",
            "text/plain": [
              "<Figure size 432x288 with 1 Axes>"
            ]
          },
          "metadata": {
            "tags": []
          }
        }
      ]
    },
    {
      "cell_type": "code",
      "metadata": {
        "id": "eS4s8k1D01Ru",
        "colab_type": "code",
        "outputId": "96f376b7-b6b6-4d22-9d7b-cdbdf980fd62",
        "colab": {
          "base_uri": "https://localhost:8080/",
          "height": 312
        }
      },
      "source": [
        "RRScoresOneMean = mrr_score(bestModelOne, test_dataset).mean()\n",
        "#We trained our second best model using implicit data\n",
        "RRScoresTwoMean = mrr_score(bestModelTwo, test_dataset).mean()\n",
        "#We cannot specify training set for combSum\n",
        "RRScoresCSMean = mrr_score(CSModel, test_dataset).mean()\n",
        "print(RRScoresOneMean,RRScoresTwoMean,RRScoresCSMean)\n",
        "results=[RRScoresOneMean,RRScoresTwoMean,RRScoresCSMean]\n",
        "x = [1,2,3]\n",
        "labels = ['Implicit Model Q2','Implicit Model Q3','CombSum Model']\n",
        "\n",
        "fig, ax = plt.subplots()\n",
        "plt.title(\"Graph showing the MRR Scores of different models\")\n",
        "ax.bar(x,results,color=['r','b','g'],label=labels)\n",
        "\n",
        "ax.set_xticks(x)\n",
        "ax.set_xticklabels(labels)\n",
        "plt.xlabel('Models')\n",
        "plt.ylabel('MRR Score')\n",
        "\n",
        "plt.show()"
      ],
      "execution_count": 52,
      "outputs": [
        {
          "output_type": "stream",
          "text": [
            "0.23098791459221674 0.2202132812437965 0.2278224429675155\n"
          ],
          "name": "stdout"
        },
        {
          "output_type": "display_data",
          "data": {
            "image/png": "[encoded data removed]",
            "text/plain": [
              "<Figure size 432x288 with 1 Axes>"
            ]
          },
          "metadata": {
            "tags": []
          }
        }
      ]
    },
    {
      "cell_type": "code",
      "metadata": {
        "id": "OurCvuNM3uFP",
        "colab_type": "code",
        "outputId": "2a70882a-9cce-432e-94c3-a40c595e0521",
        "colab": {
          "base_uri": "https://localhost:8080/",
          "height": 530
        }
      },
      "source": [
        "'''\n",
        "Question 5\n",
        "Develop a Lift-based recommender (see Lecture 4). Identify pairs of books rated positively by users in\n",
        "ratings.csv (the order of being read does not matter, i.e. [x➙y] is equivalent to [y➙x]). Calculate\n",
        "Lift for all pairs. Then develop a recommender where the score for each target recommended item is\n",
        "the sum of the log log(lift)￼ between positively rated items in the user profile (rating ≥ 4) and the target\n",
        "item. Do not score items that have already been rated by the user.\n",
        "Implement a minimum Support Count threshold (see Lecture 4). In a graph, plot how MRR responds\n",
        "to adjustments in the minimum Support Count threshold on the validation set. Identify the best support\n",
        "threshold on the validation set and report the obtained performances on the test set.\n",
        "Describe in your report how you performed calculations offline vs. online (i.e. within predict()\n",
        "method). You may build upon the solution provided for Lab 1, but following University guidance, you\n",
        "MUST acknowledge the source of any code you copy into your solution.\n",
        "'''\n",
        "def getCountPairs():\n",
        "  #We find all positive ratings that are greater or equal to 4\n",
        "  posRatings = ratings_df[ratings_df[\"rating\"]>=4]\n",
        "  allPairs = pd.merge(posRatings, posRatings, on=[\"user_id\"])\n",
        "\n",
        "  listPairs=allPairs[[\"book_id_x\", \"book_id_y\", \"user_id\"]].groupby([\"book_id_x\", \"book_id_y\"]).count()\n",
        "  \n",
        "  #This still includes pairs with duplicates\n",
        "  countPairs = listPairs.reset_index().rename(columns={\"user_id\" : \"count\"}).sort_values(['count'], ascending=False)\n",
        "  return posRatings,countPairs\n",
        "\n",
        "\n",
        "def sortStructTitles(withtitles):\n",
        "\n",
        "  sortTitles = withtitles.sort_values(['lift'], ascending=False)\n",
        "\n",
        "  sortTitles['log_lift'] = np.log(sortTitles['lift'])\n",
        "  titlesLogLift = sortTitles.iloc[:, ~sortTitles.columns.duplicated()]\n",
        "\n",
        "  titlesWithoutDups = titlesLogLift.drop(titlesLogLift[titlesLogLift['book_id_x']==titlesLogLift['book_id_y']].index)\n",
        "\n",
        "  result = titlesWithoutDups[['book_id_x', 'book_id_y', 'count', 'log_lift']]\n",
        "\n",
        "  return(result)\n",
        "\n",
        "print(\"Table of all positive ratings:\")\n",
        "print(getCountPairs())\n",
        "\n",
        "'''\n",
        "        book_id_x  book_id_y  count\n",
        "4728            4          4    528\n",
        "0               1          1    502\n",
        "36660          25         25    453\n",
        "25867          18         18    414\n",
        "10882           8          8    408\n",
        "...           ...        ...    ...\n",
        "244485        213         78      1\n",
        "634174        786        961      1\n",
        "634175        786        974      1\n",
        "634176        786        975      1\n",
        "539414        628        696      1\n",
        "'''"
      ],
      "execution_count": 53,
      "outputs": [
        {
          "output_type": "stream",
          "text": [
            "Table of all positive ratings:\n",
            "(        Unnamed: 0  user_id  book_id  rating\n",
            "0                0        1      258       5\n",
            "2             1998      143      258       4\n",
            "3             4731      325      258       4\n",
            "7             7702      473      258       4\n",
            "8            11816      579      258       5\n",
            "...            ...      ...      ...     ...\n",
            "124755      438250     1067     1499       4\n",
            "124756      438536      889     1499       5\n",
            "124757      438735     1920     1499       4\n",
            "124759      439505      927     1499       4\n",
            "124760      439728     1298     1499       4\n",
            "\n",
            "[80030 rows x 4 columns],         book_id_x  book_id_y  count\n",
            "4728            4          4    528\n",
            "0               1          1    502\n",
            "36660          25         25    453\n",
            "25867          18         18    414\n",
            "10882           8          8    408\n",
            "...           ...        ...    ...\n",
            "244485        213         78      1\n",
            "634174        786        961      1\n",
            "634175        786        974      1\n",
            "634176        786        975      1\n",
            "539414        628        696      1\n",
            "\n",
            "[1078828 rows x 3 columns])\n"
          ],
          "name": "stdout"
        },
        {
          "output_type": "execute_result",
          "data": {
            "text/plain": [
              "'\\n        book_id_x  book_id_y  count\\n4728            4          4    528\\n0               1          1    502\\n36660          25         25    453\\n25867          18         18    414\\n10882           8          8    408\\n...           ...        ...    ...\\n244485        213         78      1\\n634174        786        961      1\\n634175        786        974      1\\n634176        786        975      1\\n539414        628        696      1\\n'"
            ]
          },
          "metadata": {
            "tags": []
          },
          "execution_count": 53
        }
      ]
    },
    {
      "cell_type": "code",
      "metadata": {
        "id": "VvDQGaIl_6KJ",
        "colab_type": "code",
        "outputId": "b3590b72-d32b-4db9-cf65-d822936f7788",
        "colab": {
          "base_uri": "https://localhost:8080/",
          "height": 255
        }
      },
      "source": [
        "# Some code from the lab 1 solution Q7 was used for this part\n",
        "# Solution\n",
        "\n",
        "posRatings,countPairs = getCountPairs()\n",
        "#We therefore need the counts of movies\n",
        "movieCounts = posRatings.groupby([\"book_id\"]).count()[[\"user_id\"]].reset_index().rename(columns={\"user_id\" : \"ratingCount\"})\n",
        "\n",
        "#lets puts all the information in the sample dataframe.\n",
        "allstats = countPairs.merge(movieCounts, left_on=\"book_id_x\", right_on=\"book_id\").merge(movieCounts, left_on=\"book_id_y\", right_on=\"book_id\")\n",
        "\n",
        "#and drop out some unused columns\n",
        "allstats = allstats[[\"book_id_x\",\t\"book_id_y\",\t\"count\", \"ratingCount_x\", \"ratingCount_y\"]]\n",
        "allstats = allstats.loc[:,~allstats.columns.duplicated()]\n",
        "\n",
        "#to calculate probabilites we need a denominator. I used the number of total ratings\n",
        "num=float(ratings_df.count()[\"rating\"])\n",
        "\n",
        "#we can then perform artihmetic on columns\n",
        "allstats[\"lift\"] = (allstats[\"count\"] / num ) / ( (allstats[\"ratingCount_x\"] / num) * (allstats[\"ratingCount_y\"] / num))\n",
        "\n",
        "#and finally, merge in the titles\n",
        "withtitles = allstats.merge(books_df, left_on=[\"book_id_x\"], right_on=\"book_id\").merge(books_df, left_on=[\"book_id_y\"], right_on=\"book_id\")\n",
        "\n",
        "#note that some of the movies with highlest lift have very low frequencies. We would apply a minium support threshold\n",
        "sortWithTitles = sortStructTitles(withtitles)\n",
        "print(sortWithTitles[['book_id_x', 'book_id_y', 'log_lift']])\n",
        "\n",
        "#          book_id_x  book_id_y   log_lift\n",
        "# 1078791       1416        418  11.734163\n",
        "# 1070449       1608       1302  11.734163\n",
        "# 1070448       1140       1302  11.734163\n",
        "# 1078734        880       1227  11.734163\n",
        "# 1035294       1811       1925  11.734163\n",
        "# ...            ...        ...        ...\n",
        "# 243430         248         61   1.553044\n",
        "# 282728          19        112   1.435261\n",
        "# 84399          112         19   1.435261\n",
        "# 157342         297          6   1.273119\n",
        "# 115357           6        297   1.273119"
      ],
      "execution_count": 54,
      "outputs": [
        {
          "output_type": "stream",
          "text": [
            "         book_id_x  book_id_y   log_lift\n",
            "1078791       1416        418  11.734163\n",
            "1070449       1608       1302  11.734163\n",
            "1070448       1140       1302  11.734163\n",
            "1078734        880       1227  11.734163\n",
            "1035294       1811       1925  11.734163\n",
            "...            ...        ...        ...\n",
            "243430         248         61   1.553044\n",
            "282728          19        112   1.435261\n",
            "84399          112         19   1.435261\n",
            "157342         297          6   1.273119\n",
            "115357           6        297   1.273119\n",
            "\n",
            "[1077014 rows x 3 columns]\n"
          ],
          "name": "stdout"
        }
      ]
    },
    {
      "cell_type": "code",
      "metadata": {
        "id": "RuOOZiZsQ_wu",
        "colab_type": "code",
        "outputId": "e563ced7-6921-494d-f1e7-6396246e4e78",
        "colab": {
          "base_uri": "https://localhost:8080/",
          "height": 71
        }
      },
      "source": [
        "'''\n",
        "Then develop a recommender where the score for each target recommended item is\n",
        "the sum of the log log(lift)￼ between positively rated items in the user profile (rating ≥ 4) and the target\n",
        "item. Do not score items that have already been rated by the user.\n",
        "'''\n",
        "#Model is taking too long to run\n",
        "class liftRecommender:\n",
        "  \n",
        "  def __init__(self, sortWithTitles):\n",
        "    self.sortWithTitles = sortWithTitles\n",
        "  \n",
        "  def predict(self, uid):\n",
        "    pred = []\n",
        "    posRatedItems = list(ratings_df[(ratings_df['user_id']==uid) & (ratings_df['rating']>=4)]['book_id'])\n",
        "    allRatedItems = list(ratings_df[(ratings_df['user_id']==uid)]['book_id'])\n",
        "    allItems = books_df['book_id']\n",
        "\n",
        "    #very inefficient - look into faster way\n",
        "    for ID in allItems:\n",
        "      #We select the log_lift for all pairs containing the target item, but not items that have already been rated by the user in book_id_y\n",
        "      logLiftTarget = sortWithTitles[(sortWithTitles['book_id_x']==ID)&(~sortWithTitles['book_id_y'].isin(allRatedItems))]['log_lift']\n",
        "      targetLiftSum = logLiftTarget.sum()\n",
        "      pred += [targetLiftSum]\n",
        "\n",
        "    return pred\n",
        "\n",
        "#ISSUE - this step takes too long to make predictions\n",
        "model = liftRecommender(sortWithTitles)\n",
        "test = model.predict(1)\n",
        "print(test)\n",
        "\n",
        "'''\n",
        "RESULTS:\n",
        "[6810.85609573345, 6515.332391624992, ... , , 1194.671651227192, 2400.541124743631]\n",
        "1993\n",
        "'''\n",
        "\n",
        "#print(idx)\n",
        "#print(ratedBooks)\n",
        "print(books_df['book_id'][1823])"
      ],
      "execution_count": 55,
      "outputs": [
        {
          "output_type": "stream",
          "text": [
            "[6810.85609573345, 6515.332391624992, 5588.544067829178, 6399.647998023565, 6133.312198685389, 5889.045157705828, 5870.687230548958, 5827.789545050162, 5726.820987762461, 6085.6751890574005, 6095.989415925089, 5808.725987002428, 5775.538938804924, 5657.463704933961, 5716.561077050337, 6260.334448672611, 6663.0119782346865, 6277.8579210513135, 5771.413877711073, 6555.638132005415, 6307.783235509125, 5600.094547099416, 6290.5074340520605, 6298.691876868674, 6515.435372023295, 5865.686317081972, 6339.27233763879, 5736.098595564053, 5606.250663582028, 6092.246498222143, 6007.198661081573, 5408.107473404456, 5802.589097766112, 2591.672939465898, 5288.899836261936, 5865.309397398478, 5895.684739170585, 5799.299454728228, 6051.847486011258, 4887.092275609064, 4953.797657653455, 5365.307631062131, 5703.309922316201, 3954.3987590778715, 5771.486820170849, 5898.539849479797, 5921.518237009092, 5377.602297880421, 5300.42109828073, 5628.965496892019, 3226.760846152292, 5384.368143683276, 3511.047825207715, 5452.291215474095, 5483.32356327585, 5178.776917535995, 5339.588166147034, 5442.7296135177985, 5568.254640193358, 5757.852802422547, 5231.798635036663, 5312.127789760368, 5328.956991171051, 5172.913350446577, 5424.820262448965, 5412.275980169778, 5494.3422766784015, 4930.732994484864, 5200.29744849571, 6034.483256954076, 4792.819066390533, 4974.7458838804105, 3742.0064969334303, 4302.765484869884, 4898.091125674471, 5188.476112576398, 4017.6202643894326, 4052.0288411521997, 4795.826651390304, 5354.193910423669, 5238.263785009867, 4668.704362833945, 4929.443233315221, 4823.843877237152, 5491.4179563568405, 4565.287317656056, 5224.8876699400025, 4279.234487582324, 5167.39664065017, 4560.212698543064, 2898.8659427744687, 5253.276069980963, 5090.707569813505, 4959.948229757976, 4563.365027564629, 1829.0246309368415, 4975.104532579349, 5874.450288949727, 2136.022083470837, 5144.4129523617, 5280.091808866342, 5638.014966794599, 4712.766347757419, 4834.129223160175, 3228.8659624801776, 5437.770319864766, 2812.383985172857, 3071.5805312802, 4677.83041926158, 5756.74274860798, 4075.8956835352765, 4536.634588682177, 5302.389809224965, 4809.857436132668, 5265.753999254218, 4746.53653822593, 5733.727465833212, 5255.492699007066, 5785.567904634844, 3115.9127258343624, 4890.287196361499, 5024.54727969766, 4400.61163712022, 5124.074249138079, 4846.014644768812, 4758.386144479492, 4693.753954140191, 3012.611070478158, 5166.783745134509, 4557.394864386431, 5235.744575224797, 4297.713862093833, 5428.5745958600355, 2630.4271584315406, 5595.124673942702, 4651.404395342224, 5297.217440187747, 4831.488855497716, 3834.1030166105184, 5465.909345334923, 5044.353571028774, 5247.453312174075, 5302.202420201196, 4924.366833933807, 1782.6096429621562, 4975.338166375723, 2638.5444795475614, 4415.933374846014, 2842.6580427938798, 5054.523230400015, 3883.139363663155, 1319.7691560416501, 2808.854724458499, 5142.771295593726, 5353.10852723631, 3457.7159863964407, 4907.753977847144, 5499.929820912839, 3718.8144669273033, 5038.278948217964, 5391.3530759712185, 4437.251359934835, 2235.583537648169, 4492.743134322676, 5136.939826034073, 2881.5357223202186, 4985.61253918545, 5408.282370316682, 1347.1391048102917, 2548.6319658533066, 5033.991149838026, 4716.956055107814, 4235.477195487925, 3243.9910543561045, 3868.755589417331, 4271.920380917645, 4612.764745614952, 4658.443847939897, 4853.617151641756, 4601.976177283738, 4772.711291131999, 1476.9242832610203, 2101.920994405465, 5349.769653409811, 5160.852209210194, 4721.152937782576, 2592.454763187139, 5286.496656558469, 5129.343142843487, 4551.561448311852, 4782.158492849618, 4266.614868905957, 4566.225358829146, 3892.8704425211545, 5102.351224110156, 4215.051722508854, 4214.428709230103, 4752.736504153802, 3573.0360675725688, 4174.538542699598, 2978.2249624112746, 1071.179078044006, 1004.6418336349203, 4391.127512079722, 4789.68013905922, 560.6596482049418, 2570.2108784962747, 4929.0242899177665, 4120.894040854014, 1624.2152346019611, 4492.643964218314, 4797.655626377895, 4282.385753914839, 3500.015339597652, 4966.79676158587, 4702.480539614617, 4965.866733834615, 996.4207351809894, 5080.36066047671, 712.9561258806909, 2992.0953679469153, 3141.430445528186, 2852.884110055118, 1456.4229792383462, 4862.471129554396, 4148.279660541128, 3573.115896454256, 3762.199007077648, 4372.682581748108, 4362.821470768051, 4343.36326446645, 4243.600639085757, 4961.266957556849, 3814.2262194475434, 3930.021382768493, 4489.712465131416, 3446.833521829047, 4508.186917215516, 4141.100462652543, 2910.5068370883173, 4183.397752394463, 3153.5626518695803, 3860.514697888966, 4247.326131159886, 4624.583737333976, 1263.7450360321075, 1582.8741191102076, 4972.734350376784, 4518.152438350673, 4285.458364003279, 3039.0248261873357, 4022.606426547183, 1302.7710156243993, 4363.579718127668, 4535.518519675761, 4112.514280979451, 4680.556234933783, 2392.727018723749, 2456.500547021757, 1452.1388734095258, 4013.131234293357, 2618.97087883204, 4116.371993006025, 5105.088062158779, 2459.473334098102, 4062.854985367944, 4492.602219744548, 2592.484611614146, 4717.450209204287, 4900.17604696168, 4233.30602583329, 4234.0949300459, 3240.2180347788353, 3042.2405122279924, 3733.6922808600966, 4988.68990979314, 4897.9641255789375, 3561.0523249636935, 1940.3214991774244, 3147.111976543051, 3582.350972030502, 4198.893326229449, 3990.869433137463, 4031.591468438827, 1534.0108560941947, 4832.376656677463, 2729.305173269669, 4872.6447174070145, 4057.902612047418, 4265.933741854923, 3674.6214502058506, 3712.5370581049588, 2414.421460773879, 4368.512206334166, 4008.949977094303, 4565.750985905943, 3734.4501063645093, 1782.048872071689, 2879.527737890553, 4092.1986579575955, 1647.5731021899562, 1518.259207998976, 4349.387360870725, 3618.5026318869914, 4569.372420894267, 3766.707803523678, 2587.8944364645017, 2017.1438873762265, 3910.193523498737, 3744.3978831772456, 4876.657363379765, 3786.9072961598367, 2391.240268632575, 1720.4562780141912, 4423.758506425651, 4097.793648643291, 4176.042916244017, 1518.3370991792508, 4477.273310511149, 4678.670062262101, 4687.6257070864995, 4350.786488423075, 3256.2826547893874, 5208.539191510388, 4084.349152294373, 2580.2389421297785, 3780.424810034156, 3211.957981207879, 3392.530248923519, 3456.125297365986, 3803.1899370409988, 3626.9168944143985, 165.80905082618946, 4893.725211964635, 2715.8769840860414, 4157.693278959852, 3205.978535323359, 4399.310878823342, 417.0585141339572, 3894.695187339984, 2832.6708377521045, 2969.4841424214774, 4773.564478997761, 2604.074269004374, 3618.598957014954, 3638.5617647549907, 2940.58165566138, 3351.631385264028, 3669.6170623145736, 1344.9826200384148, 3836.764939399526, 3990.5357620787945, 4689.798716930547, 2986.72582289026, 3205.5737079027977, 3506.3756843706255, 4007.7365114983077, 4002.2825573992163, 3515.1854147734193, 3432.008900855387, 3485.4960651954516, 1193.3612251445456, 3752.5769545077073, 2909.592657475147, 2766.3451723892085, 2634.5130273386603, 4447.459789929067, 2591.7587422879715, 1314.62866853911, 3511.4415860116187, 4604.387295919402, 4540.63668534475, 4356.0091085197, 4160.456136220211, 1920.8080874628554, 4434.485839138736, 4741.4117303883, 3818.743978980778, 3666.3759427307823, 3243.675297717285, 2761.359356499551, 3957.1103809112183, 1376.1077934530433, 3714.3928659666017, 4402.318528369812, 3992.194991787174, 3211.68658855711, 3087.3935625085833, 3202.6157720182964, 3927.5232483611953, 1313.1829123433808, 1553.6082674034706, 1137.201438483709, 3907.564752750114, 3499.8656690919133, 3003.5351475985008, 3981.317258915966, 2451.332610036261, 3526.386600815966, 3839.2424470956757, 3997.822341900823, 2200.939643700537, 3382.689845358641, 4438.257395915269, 1289.8811817554729, 4724.6638524081545, 3558.2179958689194, 3880.177368329653, 4203.83651128245, 2435.993694103923, 2098.1505991205186, 3425.1060744621464, 4083.4671237644334, 0.0, 4897.71736917013, 4475.226612635085, 226.78266333049876, 962.1421628729756, 1876.4317891809765, 4021.897197532007, 2304.3921412788704, 1062.103355325106, 3535.6872944639417, 3406.254996220643, 4171.9449878333835, 3736.951094655784, 2233.7238668910786, 2519.380515223267, 4084.3670978795144, 2744.2698760962157, 3134.218948638838, 1346.043427939327, 780.4023139362918, 1452.779090296156, 3778.4981141100543, 3573.30320198552, 3534.029232903634, 3063.879202805041, 3090.7970573118037, 2976.281539069467, 3828.306879857346, 1307.194126310601, 3866.8862043418108, 2745.6660452829055, 3101.774526525126, 1877.0981022107942, 1060.2241676946053, 2731.646452701529, 3930.397925858605, 2602.652239066705, 3484.9592404388923, 1791.7769619758433, 3041.295960823656, 3808.0972215887978, 4120.836957183751, 4487.408746595971, 3154.02806440079, 1355.5171731366527, 4536.581390042682, 839.159394488049, 4210.805410352699, 1182.5780068243012, 3280.4304847672397, 4609.199105719439, 4614.895357849112, 1466.9065644512616, 2350.685012710468, 4174.993635276138, 3108.2354965869545, 4039.047578707774, 2600.4752160045264, 1995.444523565269, 4765.044214757461, 2169.0689284328155, 2449.834533721919, 2727.6380365254236, 4355.807731764763, 2639.939721212113, 3577.2024194213905, 4295.442001172372, 3591.247118237824, 3740.6108597470093, 1556.1289106405518, 3639.064472877697, 3444.6704743169494, 3626.770509865838, 4012.610631261611, 1329.5168276057557, 4213.744334867606, 3267.959417556347, 4004.6822307647667, 4204.428182727481, 3782.241953093291, 2912.587571452592, 3290.4900556339458, 3104.6768280321994, 1027.8487689106692, 3451.4865914855163, 2297.7878644772227, 2713.2364756310426, 1261.372011754659, 1117.0045608050286, 799.588994153039, 2060.606300231988, 4007.3548690422126, 2652.960129392258, 3463.619837323247, 3114.461784173418, 2378.92909966379, 4095.4134216567095, 3765.4750142016906, 4697.904512704234, 2675.666801073595, 2256.6118401051012, 4217.712964763444, 2714.783197552178, 4120.439707250531, 4535.9838998156365, 655.2861063566328, 1524.2037163757527, 2522.248258014293, 3526.257369154936, 3429.2446609728877, 3236.4530364172288, 4470.728353388801, 3537.2095883656757, 1936.380278950057, 2405.2565091336537, 4387.226258737779, 2537.0013871834144, 1224.3183803611387, 2839.6620098457984, 4104.151067811161, 1187.7391774341243, 3535.086619325438, 1870.5450351677132, 3216.9091283475773, 835.7891400929655, 3721.3088398445925, 4155.879062650169, 3235.7111381175055, 2771.7982335072466, 1129.1901222398806, 4534.080339386184, 3748.6390927404586, 1862.692133318086, 2925.809088478317, 3997.039180754626, 1315.0648360928742, 2141.777721090543, 4273.1762984080415, 3546.0115635972315, 3802.6100330252084, 3186.0814097598504, 4180.963649595273, 2842.2227608181765, 3376.4736898014735, 1475.345930600251, 2458.8786371452084, 2649.8090451439307, 3404.945004427978, 2254.2539054072754, 1402.491473862802, 4350.097455804016, 1746.904436245929, 4434.223810116282, 811.1060912937123, 4131.125826611125, 2775.1864616689872, 3329.965596915084, 2989.5433566424927, 1876.0761283535378, 2839.6755800362816, 1612.6725920498632, 301.88378644028194, 3542.429541101852, 1089.3044473633108, 2574.5870402966116, 4277.305104687726, 1411.910801914772, 367.71533110816114, 3021.7832360587886, 3940.140573864018, 3290.5245409328736, 3844.2151447081446, 2234.436954854314, 4458.772811182083, 2980.2416738436623, 3281.6610441344906, 2692.6158946819846, 3996.610535784089, 1162.7441742435888, 1962.8917106980211, 3373.4474068268773, 2407.969699076285, 3010.264726604575, 2710.1736146700673, 3235.9146153948523, 828.313202105104, 2121.1171473548584, 3235.818087400775, 2896.550722396425, 3880.5063845090463, 3142.6876738984156, 3335.126439923309, 1225.1813275765076, 3367.3053585174484, 3282.2533595463856, 3486.770828770379, 1906.2382713419902, 4345.553704280648, 3660.8232083947432, 1328.4802379701619, 2077.0392078080495, 3050.867926537779, 3733.882631398755, 1514.6569014946308, 2445.8799319126965, 1751.2028518084894, 2984.761438359596, 3354.9401437638608, 433.80405269870045, 2896.659068789183, 1792.7491482744372, 3170.161942280083, 3930.40842002025, 4224.260766101103, 2482.290379229778, 2771.5910466673663, 3458.050888915307, 3622.4673311999304, 1249.3092503062494, 1226.1271736860945, 3617.000469357481, 2583.1810747419195, 1032.6906991071705, 3646.2004356458274, 3021.8948983939754, 2245.555043441107, 3391.530809129201, 3930.8867718836696, 3642.623094713339, 1387.773900193425, 1378.6560846325551, 3072.0764251783366, 3828.8573592954103, 2740.936048254879, 2582.6888859819974, 3117.8415396471355, 4381.854729548589, 3404.7866927523423, 3074.193917493904, 3864.0035352791874, 3829.74850771386, 1408.1220185184343, 3586.835016264095, 4085.389319574901, 3130.8153839723514, 1810.4069005834033, 3452.871156357742, 3607.7892432186936, 1902.9921632420308, 2565.1635466643575, 3717.6800533087753, 3483.9625584279274, 2131.2531046401573, 1159.8390138269883, 3954.368006460967, 4017.860231201905, 1618.3416504572917, 1837.6521848059183, 258.2855276655523, 1930.2558506254916, 2613.542359739048, 4402.57138163413, 3857.123169237718, 2764.27910669423, 3966.260926739141, 2102.6942153158516, 3396.1184929683286, 2234.9661223479357, 3153.603373600858, 3859.601819404819, 3769.42601080608, 2340.0764136134826, 2876.429569086453, 2653.143747785877, 3532.4724608492297, 1559.9600335254586, 2676.445407140141, 4259.015573569903, 2430.2254005710547, 2410.6040525452736, 2157.9398315434473, 1686.6677927797089, 3585.2660255543074, 3416.9769389926205, 1546.565243158573, 3219.2614705740334, 2376.6611390303888, 3596.2592221304144, 3493.9522055541247, 1442.0412551978654, 3886.1982543038202, 2399.0413320463554, 3194.3834891329448, 3484.557866048788, 2766.0151129106926, 2808.4582212452233, 3837.922859802541, 1804.4139779984018, 3656.0185206081464, 1297.327358883802, 2730.1574116137153, 3519.0023308480613, 2067.8177653068706, 1226.740498766755, 3833.879274093864, 3273.344229609713, 2185.2910517769333, 3742.160359968962, 3540.254012093632, 3491.5101760395564, 3537.555125211543, 3256.9244296256766, 2845.2160913539647, 3945.1822056173282, 4221.148390147664, 1871.1469241246966, 3141.600299261404, 2546.309622891496, 2482.0591637622347, 2693.600824880961, 3190.319056305155, 3409.5732721772574, 1040.5469182098218, 1915.224379344023, 3187.1455414145644, 2107.593320133249, 474.49977409856115, 3237.8976080603506, 3737.1569103917273, 681.6055951774333, 3949.043603559102, 2093.664392968193, 1781.7581106958344, 3714.786872829251, 1707.6503711939986, 2825.502742626154, 3428.8241418327516, 3128.2598555538043, 2733.0074297705546, 2713.7516934184246, 3297.7677936389427, 3591.4766268375247, 2830.850323227708, 3758.8729758251848, 2482.387703548115, 3291.2021738175117, 2097.294641219811, 2327.987512128172, 3051.7467068311953, 1226.945027770329, 4126.7736127189655, 1446.687017574864, 3108.6458351514766, 2080.19387576483, 3429.839788367662, 2222.6554228431887, 2480.310500877942, 2764.329819647318, 1619.5939050009804, 2411.7520008117945, 2645.9639319990747, 4046.039000901634, 3122.139401975139, 3612.5113542047297, 400.2554499007093, 1046.5387016570887, 2933.1961623329676, 2247.382258229199, 550.8672104962967, 3359.6606361392282, 2783.789790601238, 652.8201851394856, 3925.4392611720086, 852.7503565361604, 3619.8420119640937, 2752.945459720112, 2919.0112833135336, 2138.5285845428452, 2184.917612321938, 2632.99850663666, 3382.639523228573, 3212.850672718548, 2077.683916244131, 2155.5218673482905, 3126.1498854431047, 3420.0208720939772, 904.7959554905158, 2932.418314315036, 1359.2360617591671, 2688.055531414283, 3019.971449427002, 3140.5352743019066, 1000.2021467975776, 3809.829435286697, 2904.9936819179657, 643.3607745968002, 1328.5045498598884, 909.1321601743856, 2577.0056637994953, 1711.0590587808242, 2144.004528523144, 1947.334215926719, 3483.9624514533434, 3292.0936057599047, 2977.3376752095583, 1543.950283131392, 713.5234836980738, 648.566868076952, 588.7238604323093, 737.3847904615268, 1833.9789213993554, 2060.5456800199668, 3335.2497439189524, 1628.4358646614978, 3335.0758937092005, 2597.373184033178, 2857.8954222919624, 2943.6767440533936, 3240.617629411281, 4125.159443894316, 2980.700921601344, 3560.659464226016, 2021.0662526710785, 1122.8779456552397, 4196.84606920236, 303.6244247073702, 2918.922135946601, 3239.3051858229633, 2488.0151195701756, 1533.2514462423694, 3726.5643735859708, 2862.341233787965, 3745.9152312312876, 2514.4307069709384, 2105.8920615260836, 3273.731819442354, 2584.904728940599, 3130.7397633061296, 1125.3720334902364, 2720.6745317911154, 1154.7837746614691, 3604.801149621709, 230.99979028562052, 3202.5082076214126, 1658.922322985555, 3714.603685791966, 2349.4882709910835, 2783.718942220843, 2941.6252138210075, 3234.8076624405644, 2813.7318716507016, 1560.3162059940933, 2573.3134064746955, 2386.5743113271164, 2289.4971994663683, 2424.3302506394075, 3429.689321822847, 3180.549789731474, 1644.9372588862248, 3020.604867253863, 3542.068736900462, 1844.6414506682122, 3132.6345641014987, 1237.6666248302017, 3274.151920082735, 3232.8892504565947, 2715.5860204344126, 983.0764337693433, 2279.7804927938687, 2008.3580357858573, 1927.8785871670848, 2114.755760434698, 2190.717081498702, 3716.080203487364, 1495.815582475358, 1634.885298044319, 3298.548384747407, 2654.1019057712383, 1484.6704960638497, 1074.9404639800773, 1430.54599190885, 3481.7293617950954, 3093.366074190243, 2419.261138680835, 848.6990457822533, 1750.3635044134257, 2423.865982276866, 3541.9056826598253, 1907.2487712053776, 1883.4721455028248, 2094.198223620967, 3067.417876729204, 3015.357682819151, 3302.677329085247, 4264.458729804837, 2990.942536225585, 2313.4492030570614, 3383.0476888050653, 4374.428096663162, 2325.2710920060467, 85.80463493777118, 355.3172503749896, 740.8185917324757, 3836.518227550754, 2921.8672876811097, 1601.1160929344617, 3254.013166788374, 2229.5583239718, 3861.6191316607483, 2907.2215968293694, 1876.4142239250982, 713.48921575502, 3183.916997943036, 3411.0157864003054, 1977.8242497013941, 3005.4082234898806, 727.4210852299467, 2402.541938961051, 2245.9101862445473, 2140.3428395577093, 1308.8684087699146, 1677.4711050603746, 2672.1676641943677, 1370.8122792067861, 2043.7547030584637, 1849.3801515176262, 2348.0983742087005, 1914.0100572998654, 2977.5410470130937, 3107.7578356862127, 2573.659780833465, 1432.510835706987, 1114.033809341558, 3839.0829635823857, 3637.673898775597, 2277.9422468465564, 2602.749298691439, 2214.6258463540385, 1276.097390665535, 1901.5751415268821, 1344.6384587194864, 1036.7827473158682, 2530.3569165301815, 893.2801607232709, 3567.745363378754, 2502.3189521582844, 751.5225301987685, 2493.3730078920357, 2510.476827750072, 2469.8924831410027, 3325.957653237521, 1766.068070220857, 2623.4782064933124, 1859.368196919289, 2514.0677445635656, 1253.4711136055585, 3783.676935250426, 664.3931453413619, 2479.3767193428803, 929.1168660825465, 3392.1426879176397, 2012.304344860431, 3001.056178342069, 2155.9042732392545, 3231.699472879833, 2834.093160175297, 946.3735534904039, 2723.3675811990515, 2493.720234422992, 2217.7280317641557, 2593.4768322147925, 3457.1722341270374, 1174.7166377303242, 2911.586818770361, 2439.2628726071057, 2150.1230808096184, 2903.72586836449, 1076.6409649307805, 1555.1688464026627, 2343.9946662742436, 3602.37199362882, 3009.886680820147, 1019.6524404485724, 2357.7771079499735, 748.5333915820326, 2988.2833520843137, 2303.498124682931, 3003.637576690122, 3403.4140794753102, 2242.5222647141572, 3001.274691887056, 878.134175488315, 2625.710816831234, 625.1636813022037, 2814.0015850383843, 1922.7179789820684, 1514.5102296496298, 1701.3022469658617, 1879.8659366800778, 2346.9922825865215, 2078.5600119969886, 3607.4970892941183, 1182.7007017650233, 3191.8873851379158, 1890.1246466061812, 2980.5173733825595, 1599.3118203577212, 705.5513181464604, 3868.503310088611, 2823.098816432972, 214.50711653459214, 3067.6543256528666, 2407.8698907427934, 2574.279134498821, 706.3834842609285, 1943.108079243666, 3396.7752881182973, 2599.741611546103, 1257.556035846869, 2609.394170652159, 2013.1827796969083, 2361.7780979847143, 3471.708602438506, 1509.3655473236718, 2448.4949491960742, 2558.8729283496423, 1324.5939655050497, 1796.0576606057655, 800.350418253496, 2525.596491614734, 2584.526707671902, 2987.9711175270813, 2999.1453366847068, 424.1566784623688, 1723.5970120621905, 2447.9338570128643, 2556.3281553904026, 2217.2506989437934, 3043.742131610289, 970.6851755123133, 1347.472912762744, 1184.5966806640008, 3858.2377025439873, 1009.3307299416492, 3657.7929301412005, 1084.955937622728, 1421.3994784317774, 2836.3823407245636, 1243.6642378649058, 1771.80983608493, 3320.813855372471, 1374.4814322038565, 0.0, 2718.4220398373386, 1865.1931217300307, 2543.107736483331, 1677.3847817458295, 1192.6209739702244, 1298.8773946651552, 3077.3626096557, 1619.1965842154177, 1749.637172204772, 1653.5088067998527, 2602.8680740888076, 1499.1189051689644, 2314.9773265782887, 2629.7237200409327, 2215.998370399903, 2766.4759691511954, 2546.6911336895228, 2269.6749506025017, 2325.6285601883037, 837.6994422632591, 3102.831683144021, 3645.652269773811, 3917.3338596602507, 2289.0616853432293, 2181.549084037764, 2159.16068584441, 495.7597181760656, 1220.9216567613453, 3499.1739464289058, 3507.199512120035, 2555.4058279221663, 1910.0659346771872, 1072.8080672784008, 2753.818153143021, 2755.7446925587947, 2476.5934852716246, 1811.4362428858365, 3414.7229125324698, 3099.5653749969906, 1956.6980082734553, 2352.5047754131147, 321.1462688637475, 2614.872319333217, 2336.5736514348873, 2898.476060470616, 3308.4942678883876, 0.0, 2464.6573171545224, 2220.5613245862305, 2069.449160241099, 2933.2347910854587, 723.2598464355862, 2385.430107918979, 1918.326387168243, 1570.3911892916333, 2664.4302095394887, 2207.178292094427, 2653.9666131942067, 1132.1866028518027, 1885.1141125960337, 2503.2705785549438, 578.636323081445, 2159.9103097751395, 2238.232890123464, 3226.7803363395033, 2838.4816369532127, 3460.163665846191, 2711.3646736979845, 807.9450790293737, 601.1924741702493, 2928.306028164363, 1464.512593943154, 1476.054469154562, 1451.094785457612, 730.3576632035758, 3169.825730425722, 3876.61918305047, 367.91392041853436, 2908.358465251309, 3206.2971494882536, 1709.5791279269688, 1834.63485848945, 2349.2817444600296, 1273.3911692001095, 1679.9116333553634, 2969.0430355501844, 1947.1328843530441, 1914.4061608503362, 2422.2581124771423, 3702.2833149663766, 2870.7058503763983, 2216.600534366138, 2680.788942295959, 312.74375420768627, 3079.7052298482968, 3069.024433376313, 1181.0483342584805, 2989.746306104086, 3133.788147035878, 2740.4695631248733, 2141.8341912619026, 1539.5624205471122, 2466.8525652663066, 2010.3069819331356, 230.99979028562052, 2281.0932457342087, 1276.7794356033044, 1323.3429748870901, 2859.949307225252, 2182.025606015275, 1501.1784601742456, 1346.0192317747906, 2060.2279070224995, 1790.187810937511, 2203.357391016904, 3825.0075323192887, 2691.1137720416527, 1426.6173021828536, 3029.708459809187, 787.5967439065096, 1429.4904500465518, 2472.861753827182, 2078.300995362384, 1523.6945266834687, 2764.417994979881, 1490.8891989619292, 2473.923767020091, 0.0, 3175.965029386596, 1457.042738368033, 1737.834696712953, 3344.1148338357116, 3311.9694623602472, 0.0, 2966.4295322519592, 1633.4165232268797, 1901.3694942551551, 3291.147480149897, 2636.88848430929, 2195.290338269189, 1184.2558325576326, 3555.436257950271, 2103.1771071808216, 1699.2232299134776, 3355.570490144571, 2092.276400460106, 2391.977689326559, 3105.775071825188, 1678.3395270966025, 2291.0539127021184, 700.350683319802, 949.3909018094678, 2395.4822922930134, 2021.894004494865, 2806.5438675657806, 2623.8310693366084, 2227.455407244389, 2558.370411619721, 1112.5839890189009, 1726.05693347801, 2385.020151612606, 2694.944078166984, 1021.9416524869905, 1825.3889505828777, 2612.1862024784577, 2187.3615783800715, 268.26142999901487, 1370.148818815624, 3127.036620201123, 2253.0989316652526, 2101.0968486506845, 495.7597181760656, 732.5974097147034, 2432.915640054428, 1888.1095806214544, 1492.7580347844155, 1945.8320343529815, 876.4474615006714, 1544.8666400606576, 4033.0614569319873, 2831.1554931584524, 3208.13301401836, 1992.5209885393824, 1647.0080846947064, 2773.28545103241, 3659.4183970927315, 2258.032974252875, 2501.400541254573, 3209.2318839683676, 1685.4295343403132, 2490.5134006981734, 934.1292562152072, 647.7498114287858, 2776.3047176549967, 2851.543403216614, 1761.300758396782, 1202.3091583237137, 2458.6399326883484, 1198.8562333970954, 2837.212248630522, 558.4895629082159, 2384.6876088736763, 895.1654498421096, 1451.7330460104931, 2392.2881725508323, 927.9937898584034, 1063.4807926507644, 2379.0352963412884, 1461.1071610021538, 2139.543090914928, 1722.9427107258525, 2207.235570862692, 1228.2579328634465, 1218.6313880742441, 2590.5493995147644, 2609.403875014588, 2616.3622500914285, 1930.6109819365265, 1199.7760048192854, 1826.3844871532394, 207.42578529721393, 719.2012405947308, 1341.1001195308831, 615.1483272376652, 2126.8741223869497, 1954.410321277552, 2387.280548315698, 1907.550030350808, 2542.7660441572616, 3047.814767773839, 497.9776967203828, 3107.2753530807668, 2404.964656570188, 1260.949792605703, 2865.388955582986, 2069.359991077232, 2903.0326544538807, 2022.8035456110385, 947.1302391373224, 2315.3792725003113, 1554.0455308585329, 3189.902574330226, 2907.7760916756592, 338.67748363143187, 3128.454857370133, 1829.5644709890241, 3508.741043825805, 2110.270036375363, 2805.979795201406, 2571.0331678481557, 1749.417968061764, 1505.3718686215236, 2987.0421856706075, 3161.015580580849, 2625.5734428549645, 1280.5841493438381, 938.8788749123064, 1329.6697255844836, 466.1745788330245, 664.1681445036305, 2479.1919350286867, 1684.2623040943151, 1957.4673626778858, 1410.4302869682258, 3329.943455059557, 2047.804025184911, 2258.8592099208486, 1163.348512570085, 2025.676576406568, 3237.60850053014, 1050.8459423090576, 1208.6559934366128, 1769.2305912312154, 827.107816526843, 226.78266333049876, 1127.2552960474745, 1447.051165327616, 1733.198625729654, 1076.1424697333478, 2752.1982954765926, 1948.6047882844746, 1322.1818797259093, 226.06243831506282, 2394.341483107097, 2051.870238724143, 716.034912957977, 1554.7459051340936, 2833.294094093094, 1892.067319908075, 971.7473147696296, 2012.6758460731244, 3060.105152971266, 2020.738572499941, 573.6511672234759, 3073.30721025368, 1264.7900597502196, 3187.063509111427, 2171.2253801261054, 2405.1578888618824, 1267.8498852515077, 1341.7962014394084, 2686.863755905199, 2594.7313221228865, 929.2138271777669, 1953.391234537521, 1290.212500183779, 1385.600583712394, 2079.301737052989, 2756.9701554649528, 2483.46445944238, 1255.1603467531427, 3493.158663120763, 915.9065417702675, 3153.146440955653, 1618.6350277346364, 3236.673553711721, 3051.4202549486527, 2178.6444605818006, 2122.0273052369193, 950.3600323525134, 1127.6424319988073, 830.0986469141237, 697.0849558774377, 3197.688637024959, 1538.9501610048721, 2373.455831944449, 993.0891212791944, 1646.3130179291545, 2578.435638099453, 2422.0615609801944, 2439.6533921738364, 611.7468973120464, 2156.137794113296, 1948.6309892977865, 2686.4486617475086, 2030.52077343052, 995.3143726925057, 2157.0860732882916, 2039.5491148030133, 2078.4377544269423, 1231.7023309245376, 2046.9648311218843, 1691.0291810703652, 1390.138928681603, 2773.652086679638, 1615.4070191300184, 2823.591947784106, 3024.1657943315067, 1392.8913681289055, 3519.176742095075, 1190.1214385720384, 1537.9566350348873, 3086.6834360009634, 2264.212307321665, 1619.3187280666596, 568.360025430434, 2686.8264449898556, 2819.2095210857296, 1462.1383692185802, 2514.683013674423, 2733.846583240846, 3508.203220937254, 2072.0001872966654, 2783.196222718717, 2452.4120235439214, 358.88970979545047, 1875.198418753611, 1962.470033652525, 1722.913889691094, 1493.8832825308086, 983.1875923599387, 1224.3906772784794, 3556.167987534488, 1737.362903509071, 1160.7469514003449, 2523.3041797920205, 619.2857595923688, 890.4233320959784, 1896.1412763435283, 2702.709139346749, 1948.2023918284685, 2384.167391574057, 1024.4576775997416, 573.6511672234759, 1126.3914601332392, 2752.383298188073, 1759.4412445881574, 961.2326828388717, 2022.264371775892, 1548.7897357183697, 327.10856384935045, 668.1107951254841, 2797.7453460458537, 1912.3797641020221, 1574.7761213328063, 3139.346998819169, 902.9810159306329, 0.0, 0.0, 1794.7879618784054, 1253.9068346923546, 887.9070163380703, 1953.7230544291479, 442.5340356316416, 3020.472766373053, 1851.175258564081, 734.248843506618, 2121.573993229983, 3147.622795929082, 1998.4401076430554, 2795.871458344438, 1777.7414569209834, 3001.6339688192243, 550.3946983974425, 2006.3075809198044, 2344.0788753506185, 1983.5343008008158, 1186.4541437626933, 3197.78795088527, 2004.403899679585, 2955.3497642550883, 1258.3145840993839, 3352.5550875711606, 713.48921575502, 2870.2279191145276, 1823.653322535616, 1096.1973031941054, 1669.4746192599964, 1836.1966584604556, 2542.849316244179, 1332.6971101173876, 1836.8721933577417, 1122.3364528963884, 1743.7564741608767, 549.1084440606054, 2906.165374987565, 2591.7607776694836, 1399.8964954196167, 1317.549149463607, 1090.9739665943894, 2495.04428701385, 844.6129512100999, 1169.6308050110706, 2202.93194582292, 1466.1444154274418, 495.7597181760656, 1801.5050620447782, 831.2720505359084, 280.04860655578415, 2787.2805743252866, 2171.365282381528, 535.0076098115622, 1370.9172732177326, 921.26353981892, 1898.3316727672204, 984.5477342801255, 2551.492763555538, 1997.1198920210518, 1848.1391563022196, 185.68102541939373, 241.41260346206138, 2075.048400565818, 2603.355489915526, 2543.8680431607445, 2546.959596353855, 2110.490409758896, 2661.4343534395002, 853.3621563128306, 1698.1998461447915, 2003.0238397970038, 2292.043147024183, 1813.8785409680588, 3359.1196534624896, 3603.334718904235, 1066.9736693515895, 2575.1287927290887, 2281.4253446867424, 2714.8036563728338, 1077.3238212386082, 2378.164596569949, 1485.1371489209964, 620.3432184317119, 2356.131028030605, 2814.1892746946796, 1600.468183239267, 3105.308389525075, 576.1083489280601, 2154.913060067206, 1581.4563802173625, 2961.2202875546327, 1393.3356154118424, 3039.338016244459, 1088.0267319127895, 827.6947401862384, 503.5735759205731, 2097.0145836359015, 1439.251294529899, 3198.6880162740194, 907.9342956021437, 1847.8762255111408, 2865.120052537847, 1715.497345921842, 2444.5481185003746, 2847.3050524622113, 500.2224929030535, 2432.690457933017, 2914.7022073628536, 2071.260605008566, 399.1584525647668, 2458.2604485399993, 1290.5878553858925, 2387.597638686612, 2213.99113050915, 2183.0908976229903, 1372.1316410936709, 1953.0142879477796, 1739.6655234661966, 1642.8383054090389, 2161.9876712055443, 536.4235241329407, 142.92758362378058, 1708.856986250747, 1985.5087217335604, 2809.3092298809197, 1524.5986815805923, 2100.8714125757224, 3157.120774210584, 1478.5153533962016, 1647.178696364836, 2573.457169113056, 2271.9025282983253, 2314.37123571534, 2068.084412350331, 1616.1549590025015, 1529.2795113977622, 981.8271051265514, 3418.8998066243385, 1752.410501762654, 923.9099695043622, 455.7334358739147, 1413.959180666221, 430.36650880923116, 1901.664099601468, 2114.244420910385, 1846.8664080174817, 2858.657839966909, 1976.8299865583504, 1811.7962508902115, 1761.84809433773, 680.1206170771123, 1597.5959080683335, 2168.834454792912, 984.9955378448445, 1303.3177508539147, 253.60311412851473, 2056.524111490613, 3082.0905950310703, 2155.3651379429284, 2210.902009746225, 795.4172477491054, 985.3313164702943, 1870.5754977743372, 1130.31689618573, 2198.3256058498746, 3221.211752579329, 734.0247427025341, 2044.8645826182146, 1051.3098502601333, 2088.757740287405, 687.3177073885156, 2193.7743625661647, 1074.3805176005376, 1905.7337772375372, 1414.5521745326355, 1483.1029313146112, 807.4041172960517, 2218.963221869475, 2352.271561451339, 1204.7176769848284, 978.7430290099066, 1969.1928630415669, 1389.3092428339737, 0.0, 1227.586980148987, 1457.9602012132023, 1416.833259729542, 2393.60801440957, 1046.528431609731, 2506.3693828333635, 1813.9324036080347, 922.0218647009006, 1936.927545558907, 1018.392348679339, 2557.0453702911677, 1826.965524461941, 2409.8869485473706, 3218.9316987313064, 2668.2643104362805, 1424.3209075897526, 1687.7047922414595, 1474.932833229745, 2012.265077389759, 977.9621173958387, 2034.4727355016432, 2517.347793969019, 1597.723158942205, 1508.363335820341, 1936.085630972071, 472.3899736156551, 1560.6850101585085, 1524.7906727415107, 818.5543996202451, 1808.5239437643943, 788.6879081478179, 370.7710196692103, 1824.6201740894578, 2082.1179377774056, 1016.006268908521, 776.6780664909489, 1787.533326370334, 1493.500319497075, 0.0, 717.7800202899894, 1906.9239269795867, 2256.2486418958633, 2301.298625962112, 1360.1841528900395, 1609.3269618706895, 752.9249152767611, 2027.7818812658036, 82.59767220618185, 1411.6677576673635, 1476.5102259171108, 3239.5358485514316, 372.0811945011825, 3022.463767514415, 0.0, 1725.6989322899485, 1107.8820278706012, 818.2843847592353, 463.8606793815033, 2508.0430307951174, 709.7336400928432, 2246.1896237323263, 1058.7893746677503, 2368.0623117408763, 1868.2008721839948, 1777.4194545797397, 2920.110549716104, 1122.5786934332536, 1727.6683031390103, 611.854382882376, 1844.5130571187096, 1915.8688877707968, 1134.4510529394363, 1277.4675858778073, 1432.509025980596, 444.4871245195777, 319.81066747894846, 3072.572475529193, 1859.2154360433074, 569.4821060720689, 979.5931040643803, 2610.0291902258614, 1861.8359930116558, 1589.1507967556229, 800.2365816335403, 944.0184894438916, 1392.1101779257497, 1289.6233008589534, 2281.6547040454752, 2022.6899490556877, 1294.369335714906, 3365.7575151553597, 1348.5343081717897, 2482.243768697718, 867.3394316349995, 2675.4329526651645, 872.9960424786375, 900.7980522610517, 1942.2969519672515, 1119.1318139281018, 2125.18278069636, 1068.8836681928583, 834.1501008266661, 1690.9855392312816, 1001.5008009886842, 1014.1489290602644, 2058.9101673964224, 1865.802414512148, 1183.067169710274, 2178.999891686624, 2734.9783655424662, 1408.6400138863673, 1987.1431540579713, 2616.1749233029354, 410.4693965964675, 1444.4098826868235, 525.1073279213144, 1886.3486923987934, 1409.5371654247424, 2898.5712780762697, 1936.710328382867, 472.3899736156551, 1266.495293099911, 1197.6558299811913, 3020.920395248525, 1418.4722331052485, 717.2130270909372, 1049.400251508915, 3499.2292307228035, 2328.718052251467, 3097.3722157640423, 1127.3959741148417, 2528.2173278383107, 1042.0127483906326, 1834.401147703717, 2474.108891039956, 671.6694407028298, 844.8696868821908, 1836.7778044978872, 826.2758741479946, 0.0, 791.7897353956763, 1986.331402246273, 1905.0174558215033, 1790.477141416402, 2609.765272497865, 1520.3906628927127, 2087.4751584495643, 1286.9736822412874, 887.3690369108724, 1484.3039906910972, 1374.3544902669958, 0.0, 1370.1750990702808, 1503.4286578908732, 1772.3930209479809, 3185.9575292904724, 935.79024000031, 1094.3616359099174, 458.3260975616278, 1171.06800796998, 1737.8038225285318, 2149.4144579997956, 1655.1041431238814, 2196.6238729162646, 1257.5100556978527, 2298.2209466985455, 2238.0498386138256, 511.86205039541215, 1973.9177344089212, 2184.2935347684142, 1622.9707164103993, 2039.3613340816712, 2112.3931273726616, 800.1174061261307, 2227.3767227004105, 1194.671651227192, 2400.541124743631]\n",
            "1993\n"
          ],
          "name": "stdout"
        }
      ]
    },
    {
      "cell_type": "code",
      "metadata": {
        "id": "bafYP-ZJ8RZd",
        "colab_type": "code",
        "outputId": "557683da-af9e-4a17-9034-51dd63aa6f95",
        "colab": {
          "base_uri": "https://localhost:8080/",
          "height": 105
        }
      },
      "source": [
        "'''\n",
        "Question 6\n",
        "In this question, we will combine the outputs of Questions 1, 2, 3 & 5 using a weighted CombSum score\n",
        "combination method, to create a hybrid recommender system. In particular, please combine three\n",
        "rankings selected from each of the following questions:\n",
        "● Question 1 (pick at most one):\n",
        "○ Average rating\n",
        "○ Number of ratings\n",
        "○ Number of 5* ratings\n",
        "○ Fraction of 5* ratings\n",
        "● Question 2 (pick at most one):\n",
        "○ ExplicitFactorizationModel or ImplicitFactorizationModel on ratings\n",
        "● Question 3:\n",
        "○ ImplicitFactorizationModel on implicit data\n",
        "● Question 5:\n",
        "○ Your Lift-based recommender with best minimum Support threshold as identified on the\n",
        "validation set.\n",
        "Evaluate different combinations of weights for different score input features to find values that are the\n",
        "most effective on your validation dataset. Report the final MRR performance on the test dataset.\n",
        "'''\n",
        "\n",
        "class weightedCombSumModel():\n",
        "\n",
        "  def __init__(self, model1, model2, model3, weights):\n",
        "    self.model1 = model1\n",
        "    self.model2 = model2\n",
        "    self.model3 = model3\n",
        "    self.weights = weights\n",
        "\n",
        "  def predict(self, uid):\n",
        "    pred1 = self.weights[0] * np.array(self.model1.predict(uid))\n",
        "    pred2 = self.weights[1] * np.array(self.model2.predict(uid))\n",
        "    pred3 = self.weights[2] * np.array(self.model3.predict(uid))\n",
        "    finalPred = pred1 + pred2 + pred3\n",
        "    return finalPred\n",
        "\n",
        "\n",
        "bestModelMetrics = baselineModel(fraction_5_ratings)\n",
        "\n",
        "#There are more combinations but we do not try them all\n",
        "weights = ([1/3,1/3,1/3],\n",
        "           [8/10,1/10,1/10],[1/10,8/10,1/10],[1/10,1/10,8/10],\n",
        "           [6/10,2/10,2/10],[2/10,6/10,2/10],[2/10,2/10,6/10],\n",
        "           [4/10,3/10,3/10],[3/10,4/10,3/10],[3/10,3/10,4/10],\n",
        "           [7/10,2/10,1/10],[7/10,1/10,2/10],[2/10,7/10,1/10],[1/10,7/10,2/10],[1/10,2/10,7/10],[2/10,1/10,7/10],\n",
        "           [5/10,4/10,1/10],[5/10,1/10,4/10],[4/10,5/10,1/10],[1/10,5/10,4/10],[1/10,4/10,5/10],[4/10,1/10,5/10],\n",
        "           [5/10,3/10,2/10],[5/10,2/10,3/10],[3/10,5/10,2/10],[2/10,5/10,3/10],[2/10,3/10,5/10],[3/10,2/10,5/10])\n",
        "\n",
        "\n",
        "\n",
        "    \n",
        "    \n",
        "    \n",
        "# [0.1,0.1,0.8], [0.1,0.8,0.1], [0.8,0.1,0.1], [0.4,0.3,0.3], [0.3,0.4,0.3], [0.3,0.3,0.4],\n",
        "#        [0.2,0.3,0.5], [0.3,0.5,0.2], [0.5,0.2,0.3], [0.7,0.1,0.2], [0.2,0.7,0.1], [0.1,0.2,0.7])\n",
        "\n",
        "bestScore = 0\n",
        "bestWeights = list()\n",
        "bestWeightedModel = None\n",
        "\n",
        "#we find the optimal weight combination\n",
        "for w in weights:\n",
        "  currentModel = weightedCombSumModel(bestModelMetrics, bestModelOne, bestModelTwo, w)\n",
        "  currentScore = mrr_score(currentModel, validation,train=toread_dataset_train).mean()\n",
        "  if currentScore > bestScore:\n",
        "    bestWeightedModel = currentModel\n",
        "    bestScore = currentScore\n",
        "    bestWeights = w\n",
        "\n",
        "print (\"The best score achieved by our hybrid model is: {}.\\nThis score was achieved by combining models from Q1, Q2 and Q3\\nThe respective combination of weights used is: {}\".format(bestScore,bestWeights))\n",
        "\n",
        "'''\n",
        "RESULTS:\n",
        "The best score achieved by our hybrid model is: 0.3207973034136115.\n",
        "This score was achieved by combining models from Q1, Q2 and Q3\n",
        "The respective combination of weights used is: [0.5, 0.3, 0.2]\n",
        "'''"
      ],
      "execution_count": 56,
      "outputs": [
        {
          "output_type": "stream",
          "text": [
            "The best score achieved by our hybrid model is: 0.3207973034136115.\n",
            "This score was achieved by combining models from Q1, Q2 and Q3\n",
            "The respective combination of weights used is: [0.5, 0.3, 0.2]\n"
          ],
          "name": "stdout"
        },
        {
          "output_type": "execute_result",
          "data": {
            "text/plain": [
              "'\\nRESULTS:\\nThe best score achieved by our hybrid model is: 0.3207973034136115.\\nThis score was achieved by combining models from Q1, Q2 and Q3\\nThe respective combination of weights used is: [0.5, 0.3, 0.2]\\n'"
            ]
          },
          "metadata": {
            "tags": []
          },
          "execution_count": 56
        }
      ]
    },
    {
      "cell_type": "code",
      "metadata": {
        "id": "LBCowuaEldAy",
        "colab_type": "code",
        "outputId": "62748318-b96e-4881-fed0-35ffad59b49e",
        "colab": {
          "base_uri": "https://localhost:8080/",
          "height": 412
        }
      },
      "source": [
        "#We now test the model given our best result (and compare with previous results)\n",
        "bestScoreQ1 = mrr_score(bestModelMetrics, test_dataset, train=rating_dataset, k=100).mean()\n",
        "bestScoreQ2 = mrr_score(bestModelOne, test_dataset, train=train_dataset).mean()\n",
        "bestScoreQ3 = mrr_score(bestModelTwo, test_dataset,train=toread_dataset_train).mean()\n",
        "bestScoreQ6 = mrr_score(bestWeightedModel, test_dataset,train=toread_dataset_train).mean()\n",
        "\n",
        "print(\"Best Model Scores of each question:\\nQ1: {}\\nQ2: {}\\nQ3: {}\\nQ6: {}\\n\".format(bestScoreQ1,bestScoreQ2,bestScoreQ3,bestScoreQ6))\n",
        "\n",
        "results=[bestScoreQ1,bestScoreQ2,bestScoreQ3,bestScoreQ6]\n",
        "x = [1,2,3,4]\n",
        "labels = ['Q1','Q2','Q3','Q6']\n",
        "\n",
        "fig, ax = plt.subplots()\n",
        "plt.title(\"Graph showing the MRR Scores different top \\nperforming models in each question\")\n",
        "ax.bar(x,results,color=['r','b','c','g'],label=labels)\n",
        "\n",
        "ax.set_xticks(x)\n",
        "ax.set_xticklabels(labels)\n",
        "plt.xlabel('Models')\n",
        "plt.ylabel('MRR Score')\n",
        "\n",
        "plt.show()\n"
      ],
      "execution_count": 57,
      "outputs": [
        {
          "output_type": "stream",
          "text": [
            "Best Model Scores of each question:\n",
            "Q1: 0.03138372904213526\n",
            "Q2: 0.3276965863884323\n",
            "Q3: 0.3376630775705313\n",
            "Q6: 0.3528107307622065\n",
            "\n"
          ],
          "name": "stdout"
        },
        {
          "output_type": "display_data",
          "data": {
            "image/png": "[encoded data removed]",
            "text/plain": [
              "<Figure size 432x288 with 1 Axes>"
            ]
          },
          "metadata": {
            "tags": []
          }
        }
      ]
    },
    {
      "cell_type": "code",
      "metadata": {
        "id": "WN43pDuvLe6x",
        "colab_type": "code",
        "colab": {
          "base_uri": "https://localhost:8080/",
          "height": 54
        },
        "outputId": "bb224e27-81ec-4555-99b4-e48af733eb49"
      },
      "source": [
        "'''\n",
        "Question 7\n",
        "Based on your experiments and the answers to all the questions above, write a few paragraphs making\n",
        "suggestions for what a good recommender system deployment for this dataset, taking into account\n",
        "both efficiency and effectiveness. Support your argument by referring to the obtained results and\n",
        "graphs in questions 1-6. Moreover, reflect on what you have learned about recommender systems in\n",
        "conducting this exercise\n",
        "''' \n",
        "#Reflections written in the report."
      ],
      "execution_count": 58,
      "outputs": [
        {
          "output_type": "execute_result",
          "data": {
            "text/plain": [
              "'\\nQuestion 7\\nBased on your experiments and the answers to all the questions above, write a few paragraphs making\\nsuggestions for what a good recommender system deployment for this dataset, taking into account\\nboth efficiency and effectiveness. Support your argument by referring to the obtained results and\\ngraphs in questions 1-6. Moreover, reflect on what you have learned about recommender systems in\\nconducting this exercise\\n'"
            ]
          },
          "metadata": {
            "tags": []
          },
          "execution_count": 58
        }
      ]
    }
  ]
}